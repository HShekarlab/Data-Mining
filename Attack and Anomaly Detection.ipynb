{
  "nbformat": 4,
  "nbformat_minor": 0,
  "metadata": {
    "colab": {
      "name": "Data Mining - End Project.ipynb",
      "provenance": [],
      "collapsed_sections": []
    },
    "kernelspec": {
      "name": "python3",
      "display_name": "Python 3"
    }
  },
  "cells": [
    {
      "cell_type": "markdown",
      "metadata": {
        "id": "QSqE-gM6b8gS"
      },
      "source": [
        "***Shekarlab***"
      ]
    },
    {
      "cell_type": "code",
      "metadata": {
        "id": "MStLEpmgW7Dn"
      },
      "source": [
        "import pandas as pd\n",
        "df_data_1 = pd.read_csv(\"mainSimulationAccessTraces.csv\")"
      ],
      "execution_count": null,
      "outputs": []
    },
    {
      "cell_type": "code",
      "metadata": {
        "id": "a6bCEBFiXlO2"
      },
      "source": [
        "import numpy as np\n",
        "df_data_1['accessedNodeType'] = df_data_1['accessedNodeType'].fillna(value='/Malicious')"
      ],
      "execution_count": null,
      "outputs": []
    },
    {
      "cell_type": "code",
      "metadata": {
        "id": "DTeS6UpyUnmr"
      },
      "source": [
        "df_data_1.loc[df_data_1.value=='twenty',\"value\"] = '20.0'\n",
        "df_data_1.loc[df_data_1.value=='false',\"value\"] = '0'\n",
        "df_data_1.loc[df_data_1.value=='true',\"value\"] = '1'\n",
        "df_data_1.loc[df_data_1.value=='none',\"value\"] = '0'\n",
        "df_data_1.loc[df_data_1.value=='0',\"value\"] = '0.0'\n",
        "df_data_1['value'] = df_data_1['value'].fillna(value='60.0')\n",
        "df_data_1 = df_data_1.drop(df_data_1.index[df_data_1.value.str.contains(\"org.*\")])\n",
        "df_data_1.value = df_data_1.value.astype(float)"
      ],
      "execution_count": null,
      "outputs": []
    },
    {
      "cell_type": "code",
      "metadata": {
        "id": "ZE5E8Iz7Uq9X",
        "colab": {
          "base_uri": "https://localhost:8080/",
          "height": 313
        },
        "outputId": "797b5e52-228b-481c-9d73-c540030bc3c0"
      },
      "source": [
        "df_data_1.head()"
      ],
      "execution_count": null,
      "outputs": [
        {
          "output_type": "execute_result",
          "data": {
            "text/html": [
              "<div>\n",
              "<style scoped>\n",
              "    .dataframe tbody tr th:only-of-type {\n",
              "        vertical-align: middle;\n",
              "    }\n",
              "\n",
              "    .dataframe tbody tr th {\n",
              "        vertical-align: top;\n",
              "    }\n",
              "\n",
              "    .dataframe thead th {\n",
              "        text-align: right;\n",
              "    }\n",
              "</style>\n",
              "<table border=\"1\" class=\"dataframe\">\n",
              "  <thead>\n",
              "    <tr style=\"text-align: right;\">\n",
              "      <th></th>\n",
              "      <th>sourceID</th>\n",
              "      <th>sourceAddress</th>\n",
              "      <th>sourceType</th>\n",
              "      <th>sourceLocation</th>\n",
              "      <th>destinationServiceAddress</th>\n",
              "      <th>destinationServiceType</th>\n",
              "      <th>destinationLocation</th>\n",
              "      <th>accessedNodeAddress</th>\n",
              "      <th>accessedNodeType</th>\n",
              "      <th>operation</th>\n",
              "      <th>value</th>\n",
              "      <th>timestamp</th>\n",
              "      <th>normality</th>\n",
              "    </tr>\n",
              "  </thead>\n",
              "  <tbody>\n",
              "    <tr>\n",
              "      <th>0</th>\n",
              "      <td>lightcontrol2</td>\n",
              "      <td>/agent2/lightcontrol2</td>\n",
              "      <td>/lightControler</td>\n",
              "      <td>BedroomParents</td>\n",
              "      <td>/agent2/lightcontrol2</td>\n",
              "      <td>/lightControler</td>\n",
              "      <td>BedroomParents</td>\n",
              "      <td>/agent2/lightcontrol2</td>\n",
              "      <td>/lightControler</td>\n",
              "      <td>registerService</td>\n",
              "      <td>0.0</td>\n",
              "      <td>1520031600000</td>\n",
              "      <td>normal</td>\n",
              "    </tr>\n",
              "    <tr>\n",
              "      <th>1</th>\n",
              "      <td>lightcontrol3</td>\n",
              "      <td>/agent3/lightcontrol3</td>\n",
              "      <td>/lightControler</td>\n",
              "      <td>Dinningroom</td>\n",
              "      <td>/agent3/lightcontrol3</td>\n",
              "      <td>/lightControler</td>\n",
              "      <td>Dinningroom</td>\n",
              "      <td>/agent3/lightcontrol3</td>\n",
              "      <td>/lightControler</td>\n",
              "      <td>registerService</td>\n",
              "      <td>0.0</td>\n",
              "      <td>1520031603269</td>\n",
              "      <td>normal</td>\n",
              "    </tr>\n",
              "    <tr>\n",
              "      <th>2</th>\n",
              "      <td>lightcontrol1</td>\n",
              "      <td>/agent1/lightcontrol1</td>\n",
              "      <td>/lightControler</td>\n",
              "      <td>BedroomChildren</td>\n",
              "      <td>/agent1/lightcontrol1</td>\n",
              "      <td>/lightControler</td>\n",
              "      <td>BedroomChildren</td>\n",
              "      <td>/agent1/lightcontrol1</td>\n",
              "      <td>/lightControler</td>\n",
              "      <td>registerService</td>\n",
              "      <td>0.0</td>\n",
              "      <td>1520031603279</td>\n",
              "      <td>normal</td>\n",
              "    </tr>\n",
              "    <tr>\n",
              "      <th>3</th>\n",
              "      <td>lightcontrol4</td>\n",
              "      <td>/agent4/lightcontrol4</td>\n",
              "      <td>/lightControler</td>\n",
              "      <td>Kitchen</td>\n",
              "      <td>/agent4/lightcontrol4</td>\n",
              "      <td>/lightControler</td>\n",
              "      <td>Kitchen</td>\n",
              "      <td>/agent4/lightcontrol4</td>\n",
              "      <td>/lightControler</td>\n",
              "      <td>registerService</td>\n",
              "      <td>0.0</td>\n",
              "      <td>1520031603290</td>\n",
              "      <td>normal</td>\n",
              "    </tr>\n",
              "    <tr>\n",
              "      <th>4</th>\n",
              "      <td>movement4</td>\n",
              "      <td>/agent4/movement4</td>\n",
              "      <td>/movementSensor</td>\n",
              "      <td>Kitchen</td>\n",
              "      <td>/agent4/movement4</td>\n",
              "      <td>/movementSensor</td>\n",
              "      <td>Kitchen</td>\n",
              "      <td>/agent4/movement4</td>\n",
              "      <td>/movementSensor</td>\n",
              "      <td>registerService</td>\n",
              "      <td>0.0</td>\n",
              "      <td>1520031603464</td>\n",
              "      <td>normal</td>\n",
              "    </tr>\n",
              "  </tbody>\n",
              "</table>\n",
              "</div>"
            ],
            "text/plain": [
              "        sourceID          sourceAddress  ...      timestamp normality\n",
              "0  lightcontrol2  /agent2/lightcontrol2  ...  1520031600000    normal\n",
              "1  lightcontrol3  /agent3/lightcontrol3  ...  1520031603269    normal\n",
              "2  lightcontrol1  /agent1/lightcontrol1  ...  1520031603279    normal\n",
              "3  lightcontrol4  /agent4/lightcontrol4  ...  1520031603290    normal\n",
              "4      movement4      /agent4/movement4  ...  1520031603464    normal\n",
              "\n",
              "[5 rows x 13 columns]"
            ]
          },
          "metadata": {
            "tags": []
          },
          "execution_count": 4
        }
      ]
    },
    {
      "cell_type": "code",
      "metadata": {
        "id": "h4540K9xUuqE"
      },
      "source": [
        "import matplotlib.pyplot as plt\n",
        "import random\n",
        "import numpy as np"
      ],
      "execution_count": null,
      "outputs": []
    },
    {
      "cell_type": "code",
      "metadata": {
        "id": "scEmzfc6UxH4",
        "colab": {
          "base_uri": "https://localhost:8080/",
          "height": 518
        },
        "outputId": "2863ed38-c704-459e-dfe5-1df69c036d9e"
      },
      "source": [
        "source_loc_count = df_data_1.sourceLocation.value_counts()\n",
        "plt.figure(figsize=(7,6))\n",
        "ax=plt.subplot(111)\n",
        "plt.bar(source_loc_count.index, source_loc_count.values)\n",
        "plt.grid()\n",
        "plt.ylabel('Number of Occurrences', fontsize=20)\n",
        "plt.xlabel('Source Location', fontsize=20)\n",
        "plt.xticks(rotation=90,fontsize=15)\n",
        "plt.yticks(fontsize=15)\n",
        "plt.show()"
      ],
      "execution_count": null,
      "outputs": [
        {
          "output_type": "display_data",
          "data": {
            "image/png": "[encoded data removed]",
            "text/plain": [
              "<Figure size 504x432 with 1 Axes>"
            ]
          },
          "metadata": {
            "tags": [],
            "needs_background": "light"
          }
        }
      ]
    },
    {
      "cell_type": "code",
      "metadata": {
        "id": "2_K91SZxU02G",
        "colab": {
          "base_uri": "https://localhost:8080/"
        },
        "outputId": "e2d2e267-8144-4e49-a8b0-2a4548e1f716"
      },
      "source": [
        "for i,j in zip(source_loc_count.index,source_loc_count.values):\n",
        "    print(i,j)"
      ],
      "execution_count": null,
      "outputs": [
        {
          "output_type": "stream",
          "text": [
            "Garage 39499\n",
            "Watterroom 38368\n",
            "Entrance 38217\n",
            "Bathroom 28461\n",
            "Showerroom 28315\n",
            "Kitchen 18962\n",
            "Dinningroom 13429\n",
            "BedroomChildren 12836\n",
            "room_6 11642\n",
            "Bedroom 11009\n",
            "BedroomParents 10946\n",
            "room_8 10798\n",
            "room_9 10752\n",
            "Livingroom 10620\n",
            "room_2 10606\n",
            "room_1 10601\n",
            "room_3 10597\n",
            "room_5 10596\n",
            "room_4 10572\n",
            "room_7 10558\n",
            "room_10 10557\n"
          ],
          "name": "stdout"
        }
      ]
    },
    {
      "cell_type": "code",
      "metadata": {
        "id": "OVpItTtUU4M9",
        "colab": {
          "base_uri": "https://localhost:8080/",
          "height": 525
        },
        "outputId": "3bff0159-c349-4ffd-bb09-c9fb3cdf6973"
      },
      "source": [
        "source_type_count = df_data_1.sourceType.value_counts()\n",
        "plt.figure(figsize=(7,6))\n",
        "ax=plt.subplot(111)\n",
        "plt.grid()\n",
        "plt.bar(source_type_count.index, source_type_count.values)\n",
        "plt.ylabel('Number of Occurrences', fontsize=20)\n",
        "plt.xlabel('Source Type', fontsize=20)\n",
        "plt.xticks(rotation=90, fontsize=15)\n",
        "plt.yticks(fontsize=15)\n",
        "plt.show()"
      ],
      "execution_count": null,
      "outputs": [
        {
          "output_type": "display_data",
          "data": {
            "image/png": "[encoded data removed]",
            "text/plain": [
              "<Figure size 504x432 with 1 Axes>"
            ]
          },
          "metadata": {
            "tags": [],
            "needs_background": "light"
          }
        }
      ]
    },
    {
      "cell_type": "code",
      "metadata": {
        "id": "m7YqBlc4U7SX",
        "colab": {
          "base_uri": "https://localhost:8080/"
        },
        "outputId": "39bf0cb1-2553-4dbc-e079-efcfa3f6b59d"
      },
      "source": [
        "for i in source_type_count.index:\n",
        "    print(i)"
      ],
      "execution_count": null,
      "outputs": [
        {
          "output_type": "stream",
          "text": [
            "/lightControler\n",
            "/sensorService\n",
            "/batteryService\n",
            "/washingService\n",
            "/thermostat\n",
            "/movementSensor\n",
            "/doorLockService\n",
            "/smartPhone\n"
          ],
          "name": "stdout"
        }
      ]
    },
    {
      "cell_type": "code",
      "metadata": {
        "id": "ybbI_SoSU-RZ",
        "colab": {
          "base_uri": "https://localhost:8080/"
        },
        "outputId": "692d2c3d-8695-4344-99a9-b0ddd44cf218"
      },
      "source": [
        "for i in source_type_count.values:\n",
        "    print(i)"
      ],
      "execution_count": null,
      "outputs": [
        {
          "output_type": "stream",
          "text": [
            "135775\n",
            "85196\n",
            "81267\n",
            "47986\n",
            "5980\n",
            "1301\n",
            "330\n",
            "106\n"
          ],
          "name": "stdout"
        }
      ]
    },
    {
      "cell_type": "code",
      "metadata": {
        "id": "G0lh5xrAVBoY",
        "colab": {
          "base_uri": "https://localhost:8080/",
          "height": 525
        },
        "outputId": "e8700196-31af-488d-c612-73967ec35f43"
      },
      "source": [
        "destination_type_count = df_data_1.destinationServiceType.value_counts()\n",
        "plt.figure(figsize=(7,6))\n",
        "ax=plt.subplot(111)\n",
        "plt.grid()\n",
        "plt.bar(destination_type_count.index, destination_type_count.values)\n",
        "plt.ylabel('Number of Occurrences', fontsize=20)\n",
        "plt.xlabel('Destination Service Type', fontsize=20)\n",
        "plt.xticks(rotation=90, fontsize=15)\n",
        "plt.yticks(fontsize=15)\n",
        "plt.show()"
      ],
      "execution_count": null,
      "outputs": [
        {
          "output_type": "display_data",
          "data": {
            "image/png": "[encoded data removed]",
            "text/plain": [
              "<Figure size 504x432 with 1 Axes>"
            ]
          },
          "metadata": {
            "tags": [],
            "needs_background": "light"
          }
        }
      ]
    },
    {
      "cell_type": "code",
      "metadata": {
        "id": "jdgq99nAVFSD",
        "colab": {
          "base_uri": "https://localhost:8080/"
        },
        "outputId": "e2488417-9175-43ac-ca00-a637921d8881"
      },
      "source": [
        "for i in destination_type_count.index:\n",
        "    print(i)"
      ],
      "execution_count": null,
      "outputs": [
        {
          "output_type": "stream",
          "text": [
            "/sensorService\n",
            "/batteryService\n",
            "/movementSensor\n",
            "/washingService\n",
            "/lightControler\n",
            "/doorLockService\n",
            "/thermostat\n",
            "/smartPhone\n"
          ],
          "name": "stdout"
        }
      ]
    },
    {
      "cell_type": "code",
      "metadata": {
        "id": "zqEUcFCiVIEd",
        "colab": {
          "base_uri": "https://localhost:8080/"
        },
        "outputId": "500c41a1-0fda-4b2b-e9cc-27de0bde6f7d"
      },
      "source": [
        "for i in destination_type_count.values:\n",
        "    print(i)"
      ],
      "execution_count": null,
      "outputs": [
        {
          "output_type": "stream",
          "text": [
            "130313\n",
            "129119\n",
            "93645\n",
            "1805\n",
            "1694\n",
            "1043\n",
            "319\n",
            "3\n"
          ],
          "name": "stdout"
        }
      ]
    },
    {
      "cell_type": "code",
      "metadata": {
        "id": "7q8YtvFyVLXo",
        "colab": {
          "base_uri": "https://localhost:8080/",
          "height": 518
        },
        "outputId": "27b89115-57ec-47fd-f595-bf8807c4def4"
      },
      "source": [
        "destination_location_count = df_data_1.destinationLocation.value_counts()\n",
        "plt.figure(figsize=(7,6))\n",
        "ax=plt.subplot(111)\n",
        "plt.grid()\n",
        "plt.bar(destination_location_count.index, destination_location_count.values)\n",
        "plt.ylabel('Number of Occurrences', fontsize=20)\n",
        "plt.xlabel('Destination Location', fontsize=20)\n",
        "plt.xticks(rotation=90, fontsize=15)\n",
        "plt.yticks(fontsize=15)\n",
        "plt.show()"
      ],
      "execution_count": null,
      "outputs": [
        {
          "output_type": "display_data",
          "data": {
            "image/png": "[encoded data removed]",
            "text/plain": [
              "<Figure size 504x432 with 1 Axes>"
            ]
          },
          "metadata": {
            "tags": [],
            "needs_background": "light"
          }
        }
      ]
    },
    {
      "cell_type": "code",
      "metadata": {
        "id": "n-ugfRifVOxF",
        "colab": {
          "base_uri": "https://localhost:8080/"
        },
        "outputId": "b6e12a29-4ae1-4a03-9a98-84b5156ae70b"
      },
      "source": [
        "for i in destination_location_count.index:\n",
        "    print(i)"
      ],
      "execution_count": null,
      "outputs": [
        {
          "output_type": "stream",
          "text": [
            "Garage\n",
            "Entrance\n",
            "Watterroom\n",
            "Kitchen\n",
            "BedroomChildren\n",
            "Bathroom\n",
            "Showerroom\n",
            "BedroomParents\n",
            "room_9\n",
            "room_2\n",
            "room_1\n",
            "Livingroom\n",
            "Dinningroom\n",
            "room_6\n",
            "room_3\n",
            "room_4\n",
            "room_5\n",
            "room_8\n",
            "room_7\n",
            "room_10\n",
            "Bedroom\n"
          ],
          "name": "stdout"
        }
      ]
    },
    {
      "cell_type": "code",
      "metadata": {
        "id": "xJIVY1BXVRjN",
        "colab": {
          "base_uri": "https://localhost:8080/"
        },
        "outputId": "4e96950e-bd18-4894-902f-0d60b723cb7c"
      },
      "source": [
        "for i in destination_location_count.values:\n",
        "    print(i)"
      ],
      "execution_count": null,
      "outputs": [
        {
          "output_type": "stream",
          "text": [
            "57100\n",
            "54448\n",
            "38524\n",
            "19437\n",
            "12768\n",
            "12684\n",
            "12583\n",
            "10938\n",
            "10843\n",
            "10828\n",
            "10805\n",
            "10781\n",
            "10759\n",
            "10741\n",
            "10732\n",
            "10708\n",
            "10687\n",
            "10651\n",
            "10649\n",
            "10648\n",
            "10627\n"
          ],
          "name": "stdout"
        }
      ]
    },
    {
      "cell_type": "code",
      "metadata": {
        "id": "2-GXHwTQVU_3",
        "colab": {
          "base_uri": "https://localhost:8080/",
          "height": 525
        },
        "outputId": "0a9ffc6e-dd30-4551-c563-02c091ba59d8"
      },
      "source": [
        "accessed_node_count = df_data_1.accessedNodeType.value_counts()\n",
        "plt.figure(figsize=(7,6))\n",
        "ax=plt.subplot(111)\n",
        "plt.grid()\n",
        "plt.bar(accessed_node_count.index, accessed_node_count.values)\n",
        "plt.ylabel('Number of Occurrences', fontsize=20)\n",
        "plt.xlabel('Accessed Node', fontsize=20)\n",
        "plt.xticks(rotation=90, fontsize=15)\n",
        "plt.yticks(fontsize=15)\n",
        "plt.show()"
      ],
      "execution_count": null,
      "outputs": [
        {
          "output_type": "display_data",
          "data": {
            "image/png": "[encoded data removed]",
            "text/plain": [
              "<Figure size 504x432 with 1 Axes>"
            ]
          },
          "metadata": {
            "tags": [],
            "needs_background": "light"
          }
        }
      ]
    },
    {
      "cell_type": "code",
      "metadata": {
        "id": "4gpiDYa_VYls",
        "colab": {
          "base_uri": "https://localhost:8080/"
        },
        "outputId": "8feff4d1-9fd6-423e-808f-1ff7ccddbebb"
      },
      "source": [
        "for i in accessed_node_count.index:\n",
        "    print(i)"
      ],
      "execution_count": null,
      "outputs": [
        {
          "output_type": "stream",
          "text": [
            "/sensorService\n",
            "/derived/boolean\n",
            "/basic/number\n",
            "/basic/text\n",
            "/thermostat\n",
            "/Malicious\n",
            "/basic/composed\n",
            "/lightControler\n",
            "/movementSensor\n",
            "/batteryService\n",
            "/doorLockService\n",
            "/smartPhone\n",
            "/washingService\n"
          ],
          "name": "stdout"
        }
      ]
    },
    {
      "cell_type": "code",
      "metadata": {
        "id": "Fih2CMneVcGF",
        "colab": {
          "base_uri": "https://localhost:8080/"
        },
        "outputId": "0da05288-cfd3-4443-d4b4-9b5301d5cf65"
      },
      "source": [
        "for i in accessed_node_count.values:\n",
        "    print(i)"
      ],
      "execution_count": null,
      "outputs": [
        {
          "output_type": "stream",
          "text": [
            "130155\n",
            "94725\n",
            "90010\n",
            "42428\n",
            "313\n",
            "148\n",
            "100\n",
            "23\n",
            "22\n",
            "6\n",
            "5\n",
            "3\n",
            "3\n"
          ],
          "name": "stdout"
        }
      ]
    },
    {
      "cell_type": "code",
      "metadata": {
        "id": "uxXu-3LXVfNU",
        "colab": {
          "base_uri": "https://localhost:8080/",
          "height": 501
        },
        "outputId": "aa62b82f-ff9b-43cc-881f-70eaa948b443"
      },
      "source": [
        "operation_count = df_data_1.operation.value_counts()\n",
        "plt.figure(figsize=(7,6))\n",
        "ax=plt.subplot(111)\n",
        "plt.grid()\n",
        "plt.bar(operation_count.index, operation_count.values)\n",
        "plt.ylabel('Number of Occurrences', fontsize=20)\n",
        "plt.xlabel('Operation', fontsize=20)\n",
        "plt.xticks(rotation=90, fontsize=15)\n",
        "plt.yticks(fontsize=15)\n",
        "plt.show()"
      ],
      "execution_count": null,
      "outputs": [
        {
          "output_type": "display_data",
          "data": {
            "image/png": "[encoded data removed]",
            "text/plain": [
              "<Figure size 504x432 with 1 Axes>"
            ]
          },
          "metadata": {
            "tags": [],
            "needs_background": "light"
          }
        }
      ]
    },
    {
      "cell_type": "code",
      "metadata": {
        "id": "Cld2hTjJViyZ",
        "colab": {
          "base_uri": "https://localhost:8080/"
        },
        "outputId": "ca1322c4-5fc0-4d63-acee-807707cca979"
      },
      "source": [
        "for i in operation_count.index:\n",
        "    print(i)"
      ],
      "execution_count": null,
      "outputs": [
        {
          "output_type": "stream",
          "text": [
            "read\n",
            "write\n",
            "lockSubtree\n",
            "registerService\n"
          ],
          "name": "stdout"
        }
      ]
    },
    {
      "cell_type": "code",
      "metadata": {
        "id": "zTzc644qVljc",
        "colab": {
          "base_uri": "https://localhost:8080/"
        },
        "outputId": "c1f4787d-c71a-41dc-95c2-3d0a7020f507"
      },
      "source": [
        "for i in operation_count.values:\n",
        "    print(i)"
      ],
      "execution_count": null,
      "outputs": [
        {
          "output_type": "stream",
          "text": [
            "248061\n",
            "109648\n",
            "148\n",
            "84\n"
          ],
          "name": "stdout"
        }
      ]
    },
    {
      "cell_type": "code",
      "metadata": {
        "id": "kXwhocVuVopL",
        "colab": {
          "base_uri": "https://localhost:8080/",
          "height": 531
        },
        "outputId": "f8fa9b59-bd34-4bef-c299-35df0fb4068b"
      },
      "source": [
        "normality_count = df_data_1.normality.value_counts()\n",
        "indices = ['normal', 'DoSattack', 'scan', 'malitiousControl', 'malitiousOperation', 'spying', 'dataProbing', 'wrongSetUp']\n",
        "plt.figure(figsize=(7,6))\n",
        "ax=plt.subplot(111)\n",
        "plt.grid()\n",
        "plt.bar(indices, normality_count.values)\n",
        "plt.ylabel('Number of Occurrences', fontsize=20)\n",
        "plt.xlabel('Normality', fontsize=20)\n",
        "plt.xticks(rotation=90, fontsize=15)\n",
        "plt.yticks(fontsize=15)\n",
        "plt.show()"
      ],
      "execution_count": null,
      "outputs": [
        {
          "output_type": "display_data",
          "data": {
            "image/png": "[encoded data removed]",
            "text/plain": [
              "<Figure size 504x432 with 1 Axes>"
            ]
          },
          "metadata": {
            "tags": [],
            "needs_background": "light"
          }
        }
      ]
    },
    {
      "cell_type": "code",
      "metadata": {
        "id": "HqPhsxjrVsDF",
        "colab": {
          "base_uri": "https://localhost:8080/"
        },
        "outputId": "5c2934f0-a1b5-40fc-bdba-3366f1799b7c"
      },
      "source": [
        "for i in normality_count.index:\n",
        "    print(i)"
      ],
      "execution_count": null,
      "outputs": [
        {
          "output_type": "stream",
          "text": [
            "normal\n",
            "anomalous(DoSattack)\n",
            "anomalous(scan)\n",
            "anomalous(malitiousControl)\n",
            "anomalous(malitiousOperation)\n",
            "anomalous(spying)\n",
            "anomalous(dataProbing)\n",
            "anomalous(wrongSetUp)\n"
          ],
          "name": "stdout"
        }
      ]
    },
    {
      "cell_type": "code",
      "metadata": {
        "id": "IrJRtZ2KVvIw",
        "colab": {
          "base_uri": "https://localhost:8080/"
        },
        "outputId": "00d01752-50f8-4990-9d13-7d27a65b738c"
      },
      "source": [
        "for i in normality_count.values:\n",
        "    print(i)"
      ],
      "execution_count": null,
      "outputs": [
        {
          "output_type": "stream",
          "text": [
            "347924\n",
            "5780\n",
            "1547\n",
            "889\n",
            "805\n",
            "532\n",
            "342\n",
            "122\n"
          ],
          "name": "stdout"
        }
      ]
    },
    {
      "cell_type": "code",
      "metadata": {
        "id": "z3ZnVPN6VyJG"
      },
      "source": [
        "df_1 = df_data_1.drop('timestamp',axis=1)"
      ],
      "execution_count": null,
      "outputs": []
    },
    {
      "cell_type": "code",
      "metadata": {
        "id": "Dcm6kyzlV0ot"
      },
      "source": [
        "from sklearn.preprocessing import LabelEncoder\n",
        "labelencoder0 = LabelEncoder()\n",
        "labelencoder1 = LabelEncoder()\n",
        "labelencoder4 = LabelEncoder()\n",
        "labelencoder7 = LabelEncoder()\n",
        "labelencodery = LabelEncoder()"
      ],
      "execution_count": null,
      "outputs": []
    },
    {
      "cell_type": "code",
      "metadata": {
        "id": "gF36o3zaV3AS"
      },
      "source": [
        "X_0 = df_1.iloc[:,0].values\n",
        "X_1 = df_1.iloc[:,1].values\n",
        "X_4 = df_1.iloc[:,4].values\n",
        "X_7 = df_1.iloc[:,7].values\n",
        "y = df_1.iloc[:,11].values"
      ],
      "execution_count": null,
      "outputs": []
    },
    {
      "cell_type": "code",
      "metadata": {
        "id": "xh4ire-WV7Gz"
      },
      "source": [
        "X_0 = labelencoder0.fit_transform(X_0)\n",
        "X_0 = X_0.reshape(len(X_0),1)\n",
        "X_1 = labelencoder1.fit_transform(X_1)\n",
        "X_1 = X_1.reshape(len(X_1),1)\n",
        "X_4 = labelencoder4.fit_transform(X_4)\n",
        "X_4 = X_4.reshape(len(X_4),1)\n",
        "X_7 = labelencoder7.fit_transform(X_7)\n",
        "X_7 = X_7.reshape(len(X_7),1)\n",
        "y = labelencodery.fit_transform(y)"
      ],
      "execution_count": null,
      "outputs": []
    },
    {
      "cell_type": "code",
      "metadata": {
        "id": "5OAA4XxdV98T"
      },
      "source": [
        "from sklearn.preprocessing import OneHotEncoder\n",
        "ohe_2 = OneHotEncoder()\n",
        "ohe_3 = OneHotEncoder()\n",
        "ohe_5 = OneHotEncoder()\n",
        "ohe_6 = OneHotEncoder()\n",
        "ohe_8 = OneHotEncoder()\n",
        "ohe_9 = OneHotEncoder()\n",
        "le_2 = LabelEncoder()\n",
        "le_3 = LabelEncoder()\n",
        "le_5 = LabelEncoder()\n",
        "le_6 = LabelEncoder()\n",
        "le_8 = LabelEncoder()\n",
        "le_9 = LabelEncoder()"
      ],
      "execution_count": null,
      "outputs": []
    },
    {
      "cell_type": "code",
      "metadata": {
        "id": "OV_blPAyWBga"
      },
      "source": [
        "X_2 = df_1.iloc[:,2].values\n",
        "X_3 = df_1.iloc[:,3].values\n",
        "X_5 = df_1.iloc[:,5].values\n",
        "X_6 = df_1.iloc[:,6].values\n",
        "X_8 = df_1.iloc[:,8].values\n",
        "X_9 = df_1.iloc[:,9].values\n",
        "X_10 = df_1.iloc[:,10].values"
      ],
      "execution_count": null,
      "outputs": []
    },
    {
      "cell_type": "code",
      "metadata": {
        "id": "Q0a2MpSpWFAz"
      },
      "source": [
        "X_2 = le_2.fit_transform(X_2)\n",
        "X_2 = X_2.reshape(len(X_2),1)\n",
        "#X_2 = ohe_2.fit_transform(X_2)\n",
        "X_3 = le_3.fit_transform(X_3)\n",
        "X_3 = X_3.reshape(len(X_3),1)\n",
        "#X_3 = ohe_3.fit_transform(X_3)\n",
        "X_5 = le_5.fit_transform(X_5)\n",
        "X_5 = X_5.reshape(len(X_5),1)\n",
        "#X_5 = ohe_5.fit_transform(X_5)\n",
        "X_6 = le_6.fit_transform(X_6)\n",
        "X_6 = X_6.reshape(len(X_6),1)\n",
        "#X_6 = ohe_6.fit_transform(X_6)\n",
        "X_8 = le_8.fit_transform(X_8)\n",
        "X_8 = X_8.reshape(len(X_8),1)\n",
        "#X_8 = ohe_8.fit_transform(X_8)\n",
        "X_9 = le_9.fit_transform(X_9)\n",
        "X_9 = X_9.reshape(len(X_9),1)\n",
        "#X_9 = ohe_9.fit_transform(X_9)\n",
        "X_10 = X_10.reshape(len(X_10),1)"
      ],
      "execution_count": null,
      "outputs": []
    },
    {
      "cell_type": "code",
      "metadata": {
        "id": "_NOAsi76WJUC"
      },
      "source": [
        "X = np.concatenate((X_0,X_1,X_2,X_3,X_4,X_5,X_6,X_7,X_8,X_9,X_10),axis=1)"
      ],
      "execution_count": null,
      "outputs": []
    },
    {
      "cell_type": "code",
      "metadata": {
        "id": "fZP13tS_WL3R",
        "colab": {
          "base_uri": "https://localhost:8080/"
        },
        "outputId": "d3c20a3c-015d-4ba1-b493-3f92bf485bf3"
      },
      "source": [
        "labelencodery.classes_"
      ],
      "execution_count": null,
      "outputs": [
        {
          "output_type": "execute_result",
          "data": {
            "text/plain": [
              "array(['anomalous(DoSattack)', 'anomalous(dataProbing)',\n",
              "       'anomalous(malitiousControl)', 'anomalous(malitiousOperation)',\n",
              "       'anomalous(scan)', 'anomalous(spying)', 'anomalous(wrongSetUp)',\n",
              "       'normal'], dtype=object)"
            ]
          },
          "metadata": {
            "tags": []
          },
          "execution_count": 34
        }
      ]
    },
    {
      "cell_type": "code",
      "metadata": {
        "id": "VakpoMMBWOrP",
        "colab": {
          "base_uri": "https://localhost:8080/"
        },
        "outputId": "6279b9cb-717a-4aac-8dab-12d0584231a6"
      },
      "source": [
        "labelencodery.transform(['anomalous(dataProbing)'])"
      ],
      "execution_count": null,
      "outputs": [
        {
          "output_type": "execute_result",
          "data": {
            "text/plain": [
              "array([1])"
            ]
          },
          "metadata": {
            "tags": []
          },
          "execution_count": 36
        }
      ]
    },
    {
      "cell_type": "code",
      "metadata": {
        "id": "Vu-4BNBzWRtq"
      },
      "source": [
        "y_resized = y.reshape(len(y),1)"
      ],
      "execution_count": null,
      "outputs": []
    },
    {
      "cell_type": "code",
      "metadata": {
        "id": "Dkn_YC2PWUiv"
      },
      "source": [
        "df_spark = np.concatenate((y_resized,X),axis=1)"
      ],
      "execution_count": null,
      "outputs": []
    },
    {
      "cell_type": "code",
      "metadata": {
        "id": "0lA2dt9nWZUS"
      },
      "source": [
        "df_spark = pd.DataFrame(df_spark)"
      ],
      "execution_count": null,
      "outputs": []
    },
    {
      "cell_type": "code",
      "metadata": {
        "id": "gxkZeZsAWb_l"
      },
      "source": [
        "df_spark.to_csv('DF_Spark.csv')"
      ],
      "execution_count": null,
      "outputs": []
    },
    {
      "cell_type": "code",
      "metadata": {
        "id": "wnihI0-Te4dv"
      },
      "source": [
        ""
      ],
      "execution_count": null,
      "outputs": []
    },
    {
      "cell_type": "markdown",
      "metadata": {
        "id": "42YUXOcOV9wo"
      },
      "source": [
        "***The steps are similar to \"Result Analysis on Preprocessed Data (Accuracy, Precision, Recall, F1, Confusion Matrix)\"***"
      ]
    },
    {
      "cell_type": "code",
      "metadata": {
        "id": "uTjdKEuvV3Oj"
      },
      "source": [
        "import pandas as pd"
      ],
      "execution_count": null,
      "outputs": []
    },
    {
      "cell_type": "code",
      "metadata": {
        "id": "79BNIv6CWGa2"
      },
      "source": [
        "df_spark = pd.read_csv('df_spark.csv')"
      ],
      "execution_count": null,
      "outputs": []
    },
    {
      "cell_type": "code",
      "metadata": {
        "colab": {
          "base_uri": "https://localhost:8080/",
          "height": 206
        },
        "id": "hyB3bS2gWKTn",
        "outputId": "60ee217b-4c38-4577-b4d3-951706355b0f"
      },
      "source": [
        "df_spark.head()"
      ],
      "execution_count": null,
      "outputs": [
        {
          "output_type": "execute_result",
          "data": {
            "text/html": [
              "<div>\n",
              "<style scoped>\n",
              "    .dataframe tbody tr th:only-of-type {\n",
              "        vertical-align: middle;\n",
              "    }\n",
              "\n",
              "    .dataframe tbody tr th {\n",
              "        vertical-align: top;\n",
              "    }\n",
              "\n",
              "    .dataframe thead th {\n",
              "        text-align: right;\n",
              "    }\n",
              "</style>\n",
              "<table border=\"1\" class=\"dataframe\">\n",
              "  <thead>\n",
              "    <tr style=\"text-align: right;\">\n",
              "      <th></th>\n",
              "      <th>Unnamed: 0</th>\n",
              "      <th>0</th>\n",
              "      <th>1</th>\n",
              "      <th>2</th>\n",
              "      <th>3</th>\n",
              "      <th>4</th>\n",
              "      <th>5</th>\n",
              "      <th>6</th>\n",
              "      <th>7</th>\n",
              "      <th>8</th>\n",
              "      <th>9</th>\n",
              "      <th>10</th>\n",
              "      <th>11</th>\n",
              "    </tr>\n",
              "  </thead>\n",
              "  <tbody>\n",
              "    <tr>\n",
              "      <th>0</th>\n",
              "      <td>0</td>\n",
              "      <td>7.0</td>\n",
              "      <td>21.0</td>\n",
              "      <td>30.0</td>\n",
              "      <td>2.0</td>\n",
              "      <td>3.0</td>\n",
              "      <td>30.0</td>\n",
              "      <td>2.0</td>\n",
              "      <td>3.0</td>\n",
              "      <td>59.0</td>\n",
              "      <td>7.0</td>\n",
              "      <td>2.0</td>\n",
              "      <td>0.0</td>\n",
              "    </tr>\n",
              "    <tr>\n",
              "      <th>1</th>\n",
              "      <td>1</td>\n",
              "      <td>7.0</td>\n",
              "      <td>32.0</td>\n",
              "      <td>70.0</td>\n",
              "      <td>2.0</td>\n",
              "      <td>4.0</td>\n",
              "      <td>68.0</td>\n",
              "      <td>2.0</td>\n",
              "      <td>4.0</td>\n",
              "      <td>134.0</td>\n",
              "      <td>7.0</td>\n",
              "      <td>2.0</td>\n",
              "      <td>0.0</td>\n",
              "    </tr>\n",
              "    <tr>\n",
              "      <th>2</th>\n",
              "      <td>2</td>\n",
              "      <td>7.0</td>\n",
              "      <td>15.0</td>\n",
              "      <td>1.0</td>\n",
              "      <td>2.0</td>\n",
              "      <td>2.0</td>\n",
              "      <td>0.0</td>\n",
              "      <td>2.0</td>\n",
              "      <td>2.0</td>\n",
              "      <td>0.0</td>\n",
              "      <td>7.0</td>\n",
              "      <td>2.0</td>\n",
              "      <td>0.0</td>\n",
              "    </tr>\n",
              "    <tr>\n",
              "      <th>3</th>\n",
              "      <td>3</td>\n",
              "      <td>7.0</td>\n",
              "      <td>33.0</td>\n",
              "      <td>77.0</td>\n",
              "      <td>2.0</td>\n",
              "      <td>7.0</td>\n",
              "      <td>73.0</td>\n",
              "      <td>2.0</td>\n",
              "      <td>7.0</td>\n",
              "      <td>144.0</td>\n",
              "      <td>7.0</td>\n",
              "      <td>2.0</td>\n",
              "      <td>0.0</td>\n",
              "    </tr>\n",
              "    <tr>\n",
              "      <th>4</th>\n",
              "      <td>4</td>\n",
              "      <td>7.0</td>\n",
              "      <td>55.0</td>\n",
              "      <td>78.0</td>\n",
              "      <td>3.0</td>\n",
              "      <td>7.0</td>\n",
              "      <td>74.0</td>\n",
              "      <td>3.0</td>\n",
              "      <td>7.0</td>\n",
              "      <td>146.0</td>\n",
              "      <td>8.0</td>\n",
              "      <td>2.0</td>\n",
              "      <td>0.0</td>\n",
              "    </tr>\n",
              "  </tbody>\n",
              "</table>\n",
              "</div>"
            ],
            "text/plain": [
              "   Unnamed: 0    0     1     2    3    4     5    6    7      8    9   10   11\n",
              "0           0  7.0  21.0  30.0  2.0  3.0  30.0  2.0  3.0   59.0  7.0  2.0  0.0\n",
              "1           1  7.0  32.0  70.0  2.0  4.0  68.0  2.0  4.0  134.0  7.0  2.0  0.0\n",
              "2           2  7.0  15.0   1.0  2.0  2.0   0.0  2.0  2.0    0.0  7.0  2.0  0.0\n",
              "3           3  7.0  33.0  77.0  2.0  7.0  73.0  2.0  7.0  144.0  7.0  2.0  0.0\n",
              "4           4  7.0  55.0  78.0  3.0  7.0  74.0  3.0  7.0  146.0  8.0  2.0  0.0"
            ]
          },
          "metadata": {
            "tags": []
          },
          "execution_count": 3
        }
      ]
    },
    {
      "cell_type": "code",
      "metadata": {
        "id": "RRBgO7t6WQa3"
      },
      "source": [
        "df_spark = df_spark.drop(columns=\"Unnamed: 0\")"
      ],
      "execution_count": null,
      "outputs": []
    },
    {
      "cell_type": "code",
      "metadata": {
        "colab": {
          "base_uri": "https://localhost:8080/",
          "height": 206
        },
        "id": "YLH-o-0BWUOt",
        "outputId": "1e3312bc-e765-437c-9997-e3b774903d56"
      },
      "source": [
        "df_spark.head()"
      ],
      "execution_count": null,
      "outputs": [
        {
          "output_type": "execute_result",
          "data": {
            "text/html": [
              "<div>\n",
              "<style scoped>\n",
              "    .dataframe tbody tr th:only-of-type {\n",
              "        vertical-align: middle;\n",
              "    }\n",
              "\n",
              "    .dataframe tbody tr th {\n",
              "        vertical-align: top;\n",
              "    }\n",
              "\n",
              "    .dataframe thead th {\n",
              "        text-align: right;\n",
              "    }\n",
              "</style>\n",
              "<table border=\"1\" class=\"dataframe\">\n",
              "  <thead>\n",
              "    <tr style=\"text-align: right;\">\n",
              "      <th></th>\n",
              "      <th>0</th>\n",
              "      <th>1</th>\n",
              "      <th>2</th>\n",
              "      <th>3</th>\n",
              "      <th>4</th>\n",
              "      <th>5</th>\n",
              "      <th>6</th>\n",
              "      <th>7</th>\n",
              "      <th>8</th>\n",
              "      <th>9</th>\n",
              "      <th>10</th>\n",
              "      <th>11</th>\n",
              "    </tr>\n",
              "  </thead>\n",
              "  <tbody>\n",
              "    <tr>\n",
              "      <th>0</th>\n",
              "      <td>7.0</td>\n",
              "      <td>21.0</td>\n",
              "      <td>30.0</td>\n",
              "      <td>2.0</td>\n",
              "      <td>3.0</td>\n",
              "      <td>30.0</td>\n",
              "      <td>2.0</td>\n",
              "      <td>3.0</td>\n",
              "      <td>59.0</td>\n",
              "      <td>7.0</td>\n",
              "      <td>2.0</td>\n",
              "      <td>0.0</td>\n",
              "    </tr>\n",
              "    <tr>\n",
              "      <th>1</th>\n",
              "      <td>7.0</td>\n",
              "      <td>32.0</td>\n",
              "      <td>70.0</td>\n",
              "      <td>2.0</td>\n",
              "      <td>4.0</td>\n",
              "      <td>68.0</td>\n",
              "      <td>2.0</td>\n",
              "      <td>4.0</td>\n",
              "      <td>134.0</td>\n",
              "      <td>7.0</td>\n",
              "      <td>2.0</td>\n",
              "      <td>0.0</td>\n",
              "    </tr>\n",
              "    <tr>\n",
              "      <th>2</th>\n",
              "      <td>7.0</td>\n",
              "      <td>15.0</td>\n",
              "      <td>1.0</td>\n",
              "      <td>2.0</td>\n",
              "      <td>2.0</td>\n",
              "      <td>0.0</td>\n",
              "      <td>2.0</td>\n",
              "      <td>2.0</td>\n",
              "      <td>0.0</td>\n",
              "      <td>7.0</td>\n",
              "      <td>2.0</td>\n",
              "      <td>0.0</td>\n",
              "    </tr>\n",
              "    <tr>\n",
              "      <th>3</th>\n",
              "      <td>7.0</td>\n",
              "      <td>33.0</td>\n",
              "      <td>77.0</td>\n",
              "      <td>2.0</td>\n",
              "      <td>7.0</td>\n",
              "      <td>73.0</td>\n",
              "      <td>2.0</td>\n",
              "      <td>7.0</td>\n",
              "      <td>144.0</td>\n",
              "      <td>7.0</td>\n",
              "      <td>2.0</td>\n",
              "      <td>0.0</td>\n",
              "    </tr>\n",
              "    <tr>\n",
              "      <th>4</th>\n",
              "      <td>7.0</td>\n",
              "      <td>55.0</td>\n",
              "      <td>78.0</td>\n",
              "      <td>3.0</td>\n",
              "      <td>7.0</td>\n",
              "      <td>74.0</td>\n",
              "      <td>3.0</td>\n",
              "      <td>7.0</td>\n",
              "      <td>146.0</td>\n",
              "      <td>8.0</td>\n",
              "      <td>2.0</td>\n",
              "      <td>0.0</td>\n",
              "    </tr>\n",
              "  </tbody>\n",
              "</table>\n",
              "</div>"
            ],
            "text/plain": [
              "     0     1     2    3    4     5    6    7      8    9   10   11\n",
              "0  7.0  21.0  30.0  2.0  3.0  30.0  2.0  3.0   59.0  7.0  2.0  0.0\n",
              "1  7.0  32.0  70.0  2.0  4.0  68.0  2.0  4.0  134.0  7.0  2.0  0.0\n",
              "2  7.0  15.0   1.0  2.0  2.0   0.0  2.0  2.0    0.0  7.0  2.0  0.0\n",
              "3  7.0  33.0  77.0  2.0  7.0  73.0  2.0  7.0  144.0  7.0  2.0  0.0\n",
              "4  7.0  55.0  78.0  3.0  7.0  74.0  3.0  7.0  146.0  8.0  2.0  0.0"
            ]
          },
          "metadata": {
            "tags": []
          },
          "execution_count": 5
        }
      ]
    },
    {
      "cell_type": "code",
      "metadata": {
        "id": "zG_2rfL4WY8W"
      },
      "source": [
        "y = df_spark.iloc[:,0].values\n",
        "X = df_spark.iloc[:,1:].values"
      ],
      "execution_count": null,
      "outputs": []
    },
    {
      "cell_type": "code",
      "metadata": {
        "id": "GU7ItVVMWdE5"
      },
      "source": [
        "from sklearn.preprocessing import label_binarize"
      ],
      "execution_count": null,
      "outputs": []
    },
    {
      "cell_type": "code",
      "metadata": {
        "id": "dfSwoaOLWjxm"
      },
      "source": [
        "y = label_binarize(y, classes=[0, 1, 2, 3, 4, 5, 6, 7])"
      ],
      "execution_count": null,
      "outputs": []
    },
    {
      "cell_type": "code",
      "metadata": {
        "id": "61HLzRStWnAE"
      },
      "source": [
        "n_classes = y.shape[1]"
      ],
      "execution_count": null,
      "outputs": []
    },
    {
      "cell_type": "code",
      "metadata": {
        "colab": {
          "base_uri": "https://localhost:8080/"
        },
        "id": "CFb23ucGWqGx",
        "outputId": "523f7c37-8ce5-4055-8b5b-46577be5ce2e"
      },
      "source": [
        "n_classes"
      ],
      "execution_count": null,
      "outputs": [
        {
          "output_type": "execute_result",
          "data": {
            "text/plain": [
              "8"
            ]
          },
          "metadata": {
            "tags": []
          },
          "execution_count": 10
        }
      ]
    },
    {
      "cell_type": "code",
      "metadata": {
        "id": "He0s_rgQWuWX"
      },
      "source": [
        "from sklearn.model_selection import train_test_split\n",
        "X_train, X_test, y_train, y_test = train_test_split(X,y, test_size=0.20, random_state = 1)"
      ],
      "execution_count": null,
      "outputs": []
    },
    {
      "cell_type": "code",
      "metadata": {
        "id": "Asvajlf4Wyjg"
      },
      "source": [
        "from sklearn.preprocessing import StandardScaler\n",
        "from sklearn.pipeline import Pipeline\n",
        "from sklearn.linear_model import LogisticRegression\n",
        "from sklearn.model_selection import cross_val_score\n",
        "import matplotlib.pyplot as plt\n",
        "from sklearn.model_selection import learning_curve\n",
        "import numpy as np\n",
        "from sklearn.multiclass import OneVsRestClassifier\n",
        "from sklearn.metrics import roc_curve, auc\n",
        "from scipy import interp\n",
        "from itertools import cycle"
      ],
      "execution_count": null,
      "outputs": []
    },
    {
      "cell_type": "code",
      "metadata": {
        "id": "Ps3NsJCdW1u0"
      },
      "source": [
        "pipe_lr = Pipeline([('scl', StandardScaler()),('clf', OneVsRestClassifier(LogisticRegression(penalty='l2', random_state=0)))])"
      ],
      "execution_count": null,
      "outputs": []
    },
    {
      "cell_type": "code",
      "metadata": {
        "id": "HQlksUHuW5iL"
      },
      "source": [
        "from sklearn.svm import LinearSVC"
      ],
      "execution_count": null,
      "outputs": []
    },
    {
      "cell_type": "code",
      "metadata": {
        "id": "whG6qvEDW83e"
      },
      "source": [
        "pipe_svc = Pipeline([('scl', StandardScaler()),('clf', OneVsRestClassifier(LinearSVC()))])"
      ],
      "execution_count": null,
      "outputs": []
    },
    {
      "cell_type": "code",
      "metadata": {
        "id": "w6Diqi4eXAix"
      },
      "source": [
        "from sklearn import tree"
      ],
      "execution_count": null,
      "outputs": []
    },
    {
      "cell_type": "code",
      "metadata": {
        "id": "i2qn0itZXEA4"
      },
      "source": [
        "pipe_tree = Pipeline([('scl', StandardScaler()),('clf', OneVsRestClassifier(tree.DecisionTreeClassifier()))])"
      ],
      "execution_count": null,
      "outputs": []
    },
    {
      "cell_type": "code",
      "metadata": {
        "id": "4ZFath5tXHNY"
      },
      "source": [
        "from sklearn.ensemble import RandomForestClassifier"
      ],
      "execution_count": null,
      "outputs": []
    },
    {
      "cell_type": "code",
      "metadata": {
        "id": "B8c0Gzk9XMIj"
      },
      "source": [
        "pipe_rnd = Pipeline([('scl', StandardScaler()),('clf', OneVsRestClassifier(RandomForestClassifier(warm_start=True,n_estimators=10)))])"
      ],
      "execution_count": null,
      "outputs": []
    },
    {
      "cell_type": "code",
      "metadata": {
        "id": "vTh7E9udXP3t"
      },
      "source": [
        "from sklearn.neural_network import MLPClassifier\n",
        "mlp = MLPClassifier(hidden_layer_sizes=(50,), alpha=1e-4, solver='sgd', verbose=10, tol=1e-4, random_state=1, learning_rate_init=.1)"
      ],
      "execution_count": null,
      "outputs": []
    },
    {
      "cell_type": "code",
      "metadata": {
        "id": "e4JeUCYZXUBt"
      },
      "source": [
        "pipe_mlp = Pipeline([('scl', StandardScaler()),('clf', OneVsRestClassifier(mlp))])"
      ],
      "execution_count": null,
      "outputs": []
    },
    {
      "cell_type": "markdown",
      "metadata": {
        "id": "yifpOBDzXYRT"
      },
      "source": [
        "***Logistic Regression***"
      ]
    },
    {
      "cell_type": "code",
      "metadata": {
        "colab": {
          "base_uri": "https://localhost:8080/"
        },
        "id": "qxGuNCT2XcYR",
        "outputId": "124c712f-0818-44e2-bfe0-5372bf14d187"
      },
      "source": [
        "pipe_lr = pipe_lr.fit(X_train, y_train)"
      ],
      "execution_count": null,
      "outputs": [
        {
          "output_type": "stream",
          "text": [
            "/usr/local/lib/python3.6/dist-packages/sklearn/linear_model/_logistic.py:940: ConvergenceWarning: lbfgs failed to converge (status=1):\n",
            "STOP: TOTAL NO. of ITERATIONS REACHED LIMIT.\n",
            "\n",
            "Increase the number of iterations (max_iter) or scale the data as shown in:\n",
            "    https://scikit-learn.org/stable/modules/preprocessing.html\n",
            "Please also refer to the documentation for alternative solver options:\n",
            "    https://scikit-learn.org/stable/modules/linear_model.html#logistic-regression\n",
            "  extra_warning_msg=_LOGISTIC_SOLVER_CONVERGENCE_MSG)\n",
            "/usr/local/lib/python3.6/dist-packages/sklearn/linear_model/_logistic.py:940: ConvergenceWarning: lbfgs failed to converge (status=1):\n",
            "STOP: TOTAL NO. of ITERATIONS REACHED LIMIT.\n",
            "\n",
            "Increase the number of iterations (max_iter) or scale the data as shown in:\n",
            "    https://scikit-learn.org/stable/modules/preprocessing.html\n",
            "Please also refer to the documentation for alternative solver options:\n",
            "    https://scikit-learn.org/stable/modules/linear_model.html#logistic-regression\n",
            "  extra_warning_msg=_LOGISTIC_SOLVER_CONVERGENCE_MSG)\n"
          ],
          "name": "stderr"
        }
      ]
    },
    {
      "cell_type": "code",
      "metadata": {
        "id": "2u4aM56XXv0m"
      },
      "source": [
        "y_score_lr = pipe_lr.decision_function(X_test)"
      ],
      "execution_count": null,
      "outputs": []
    },
    {
      "cell_type": "code",
      "metadata": {
        "colab": {
          "base_uri": "https://localhost:8080/"
        },
        "id": "YRtFDbUsXzUo",
        "outputId": "328efa3e-540c-4c9c-a499-dd79ece67fae"
      },
      "source": [
        "y_score_lr"
      ],
      "execution_count": null,
      "outputs": [
        {
          "output_type": "execute_result",
          "data": {
            "text/plain": [
              "array([[-40.65858314, -15.20018535, -26.3696608 , ...,  -5.41419796,\n",
              "        -24.64889957,   6.61528567],\n",
              "       [ -5.11824591, -20.44905642, -22.39620019, ...,  -7.89225253,\n",
              "         -8.48823566,   4.0324541 ],\n",
              "       [ -8.17663494, -13.71499458, -10.95258143, ...,  -6.47704396,\n",
              "         -9.68082168,   6.5157459 ],\n",
              "       ...,\n",
              "       [-36.96201034, -13.29301778, -14.27828033, ...,  -7.56575428,\n",
              "        -21.6027136 ,   4.14261761],\n",
              "       [-58.92824881, -11.02865516,  -7.980167  , ..., -13.12090983,\n",
              "        -20.00156062,   5.49315955],\n",
              "       [-27.21562448, -12.16001476, -19.77124181, ...,  -6.6129637 ,\n",
              "        -18.61837558,   3.93255002]])"
            ]
          },
          "metadata": {
            "tags": []
          },
          "execution_count": 24
        }
      ]
    },
    {
      "cell_type": "code",
      "metadata": {
        "id": "B2dguTnOX4kR"
      },
      "source": [
        "fpr_lr = dict()\n",
        "tpr_lr = dict()\n",
        "roc_auc_lr = dict()\n",
        "for i in range(n_classes):\n",
        "    fpr_lr[i], tpr_lr[i], _ = roc_curve(y_test[:, i], y_score_lr[:, i])\n",
        "    roc_auc_lr[i] = auc(fpr_lr[i], tpr_lr[i])"
      ],
      "execution_count": null,
      "outputs": []
    },
    {
      "cell_type": "code",
      "metadata": {
        "colab": {
          "base_uri": "https://localhost:8080/",
          "height": 395
        },
        "id": "wLHHpKOYX8v7",
        "outputId": "4b991fef-9050-4e65-fa42-cc7f9a8b9ad7"
      },
      "source": [
        "lw = 2\n",
        "classes = [\"DoS\",\"D.P\",\"M.C\",\"M.O\",\"SC\",\"SP\",\"W.S\",\"NL\"]\n",
        "plt.figure(figsize=(7,6))\n",
        "ax=plt.subplot(111)\n",
        "colors = cycle(['red','maroon','navy','aqua', 'darkorange', 'cornflowerblue','olive','darkslategray'])\n",
        "for i, color in zip(range(n_classes), colors):\n",
        "    plt.plot(fpr_lr[i], tpr_lr[i], color=color, lw=lw,\n",
        "             label='{0} (area = {1:0.2f})'\n",
        "             ''.format(classes[i], roc_auc_lr[i]))\n",
        "\n",
        "plt.plot([0, 1], [0, 1], 'k--', lw=lw)\n",
        "plt.xlim([0.0, 1.0])\n",
        "plt.ylim([0.0, 1.0])\n",
        "plt.xticks(fontsize=11,weight='bold')\n",
        "plt.yticks(fontsize=11,weight='bold')\n",
        "plt.setp(ax.spines.values(), linewidth=2)\n",
        "ax.xaxis.set_tick_params(width=2)\n",
        "ax.yaxis.set_tick_params(width=2)\n",
        "plt.xlabel('False Positive Rate',fontsize=12,weight='bold')\n",
        "plt.ylabel('True Positive Rate',fontsize=12,weight='bold')\n",
        "plt.legend(loc=\"lower right\")\n",
        "plt.savefig(\"ROC_of_Logistic_Regression\")"
      ],
      "execution_count": null,
      "outputs": [
        {
          "output_type": "display_data",
          "data": {
            "image/png": "[encoded data removed]",
            "text/plain": [
              "<Figure size 504x432 with 1 Axes>"
            ]
          },
          "metadata": {
            "tags": [],
            "needs_background": "light"
          }
        }
      ]
    },
    {
      "cell_type": "markdown",
      "metadata": {
        "id": "-TUUghfEYFUH"
      },
      "source": [
        "***SVM***"
      ]
    },
    {
      "cell_type": "code",
      "metadata": {
        "colab": {
          "base_uri": "https://localhost:8080/"
        },
        "id": "DJTEBxDlYHZT",
        "outputId": "bfa4185b-fa24-48a6-9982-59fbfb3e4e69"
      },
      "source": [
        "pipe_svc = pipe_svc.fit(X_train, y_train)\n",
        "y_pred_train = pipe_svc.predict(X_train)\n",
        "y_pred_test = pipe_svc.predict(X_test)"
      ],
      "execution_count": null,
      "outputs": [
        {
          "output_type": "stream",
          "text": [
            "/usr/local/lib/python3.6/dist-packages/sklearn/svm/_base.py:947: ConvergenceWarning: Liblinear failed to converge, increase the number of iterations.\n",
            "  \"the number of iterations.\", ConvergenceWarning)\n",
            "/usr/local/lib/python3.6/dist-packages/sklearn/svm/_base.py:947: ConvergenceWarning: Liblinear failed to converge, increase the number of iterations.\n",
            "  \"the number of iterations.\", ConvergenceWarning)\n",
            "/usr/local/lib/python3.6/dist-packages/sklearn/svm/_base.py:947: ConvergenceWarning: Liblinear failed to converge, increase the number of iterations.\n",
            "  \"the number of iterations.\", ConvergenceWarning)\n",
            "/usr/local/lib/python3.6/dist-packages/sklearn/svm/_base.py:947: ConvergenceWarning: Liblinear failed to converge, increase the number of iterations.\n",
            "  \"the number of iterations.\", ConvergenceWarning)\n",
            "/usr/local/lib/python3.6/dist-packages/sklearn/svm/_base.py:947: ConvergenceWarning: Liblinear failed to converge, increase the number of iterations.\n",
            "  \"the number of iterations.\", ConvergenceWarning)\n"
          ],
          "name": "stderr"
        }
      ]
    },
    {
      "cell_type": "code",
      "metadata": {
        "id": "V7elROUBZC3g"
      },
      "source": [
        "y_score_svc = pipe_svc.decision_function(X_test)"
      ],
      "execution_count": null,
      "outputs": []
    },
    {
      "cell_type": "code",
      "metadata": {
        "id": "ZCMJpzv7ZG_v"
      },
      "source": [
        "fpr_svc = dict()\n",
        "tpr_svc = dict()\n",
        "roc_auc_svc = dict()\n",
        "for i in range(n_classes):\n",
        "    fpr_svc[i], tpr_svc[i], _ = roc_curve(y_test[:, i], y_score_svc[:, i])\n",
        "    roc_auc_svc[i] = auc(fpr_svc[i], tpr_svc[i])"
      ],
      "execution_count": null,
      "outputs": []
    },
    {
      "cell_type": "code",
      "metadata": {
        "colab": {
          "base_uri": "https://localhost:8080/",
          "height": 395
        },
        "id": "s8rUrCBEZLOY",
        "outputId": "eabb3ae8-83f2-4bc9-f808-6e9886098188"
      },
      "source": [
        "lw = 2\n",
        "classes = [\"DoS\",\"D.P\",\"M.C\",\"M.O\",\"SC\",\"SP\",\"W.S\",\"NL\"]\n",
        "plt.figure(figsize=(7,6))\n",
        "ax=plt.subplot(111)\n",
        "colors = cycle(['red','maroon','navy','aqua', 'darkorange', 'cornflowerblue','olive','darkslategray'])\n",
        "for i, color in zip(range(n_classes), colors):\n",
        "    plt.plot(fpr_svc[i], tpr_svc[i], color=color, lw=lw,\n",
        "             label='{0} (area = {1:0.2f})'\n",
        "             ''.format(classes[i], roc_auc_svc[i]))\n",
        "\n",
        "plt.plot([0, 1], [0, 1], 'k--', lw=lw)\n",
        "plt.xlim([0.0, 1.0])\n",
        "plt.ylim([0.0, 1.0])\n",
        "plt.xticks(fontsize=11,weight='bold')\n",
        "plt.yticks(fontsize=11,weight='bold')\n",
        "plt.setp(ax.spines.values(), linewidth=2)\n",
        "ax.xaxis.set_tick_params(width=2)\n",
        "ax.yaxis.set_tick_params(width=2)\n",
        "plt.xlabel('False Positive Rate',fontsize=12,weight='bold')\n",
        "plt.ylabel('True Positive Rate',fontsize=12,weight='bold')\n",
        "plt.legend(loc=\"lower right\")\n",
        "plt.savefig(\"ROC_of_SVM\")"
      ],
      "execution_count": null,
      "outputs": [
        {
          "output_type": "display_data",
          "data": {
            "image/png": "[encoded data removed]",
            "text/plain": [
              "<Figure size 504x432 with 1 Axes>"
            ]
          },
          "metadata": {
            "tags": [],
            "needs_background": "light"
          }
        }
      ]
    },
    {
      "cell_type": "markdown",
      "metadata": {
        "id": "gYY_rtfaZQBl"
      },
      "source": [
        "***Decision Tree***"
      ]
    },
    {
      "cell_type": "code",
      "metadata": {
        "id": "JNIqZc2qZXEL"
      },
      "source": [
        "pipe_tree = pipe_tree.fit(X_train, y_train)"
      ],
      "execution_count": null,
      "outputs": []
    },
    {
      "cell_type": "code",
      "metadata": {
        "id": "iZnHgqXxZZ9q"
      },
      "source": [
        "y_score_tree = pipe_tree.predict_proba(X_test)\n",
        "fpr_tree = dict()\n",
        "tpr_tree = dict()\n",
        "roc_auc_tree = dict()\n",
        "for i in range(n_classes):\n",
        "    fpr_tree[i], tpr_tree[i], _ = roc_curve(y_test[:, i], y_score_tree[:, i])\n",
        "    roc_auc_tree[i] = auc(fpr_tree[i], tpr_tree[i])"
      ],
      "execution_count": null,
      "outputs": []
    },
    {
      "cell_type": "code",
      "metadata": {
        "colab": {
          "base_uri": "https://localhost:8080/",
          "height": 395
        },
        "id": "atQJTZSKZeP3",
        "outputId": "7fa83146-4609-456c-a351-e0c656529a66"
      },
      "source": [
        "lw = 2\n",
        "classes = [\"DoS\",\"D.P\",\"M.C\",\"M.O\",\"SC\",\"SP\",\"W.S\",\"NL\"]\n",
        "plt.figure(figsize=(7,6))\n",
        "ax=plt.subplot(111)\n",
        "colors = cycle(['red','maroon','navy','aqua', 'darkorange', 'cornflowerblue','olive','darkslategray'])\n",
        "for i, color in zip(range(n_classes), colors):\n",
        "    plt.plot(fpr_tree[i], tpr_tree[i], color=color, lw=lw,\n",
        "             label='{0} (area = {1:0.2f})'\n",
        "             ''.format(classes[i], roc_auc_tree[i]))\n",
        "\n",
        "plt.plot([0, 1], [0, 1], 'k--', lw=lw)\n",
        "plt.xlim([0.0, 1.0])\n",
        "plt.ylim([0.0, 1.0])\n",
        "plt.xticks(fontsize=11,weight='bold')\n",
        "plt.yticks(fontsize=11,weight='bold')\n",
        "plt.setp(ax.spines.values(), linewidth=2)\n",
        "ax.xaxis.set_tick_params(width=2)\n",
        "ax.yaxis.set_tick_params(width=2)\n",
        "plt.xlabel('False Positive Rate',fontsize=12,weight='bold')\n",
        "plt.ylabel('True Positive Rate',fontsize=12,weight='bold')\n",
        "plt.legend(loc=\"lower right\")\n",
        "plt.savefig(\"ROC_of_Decision_Tree\")"
      ],
      "execution_count": null,
      "outputs": [
        {
          "output_type": "display_data",
          "data": {
            "image/png": "[encoded data removed]",
            "text/plain": [
              "<Figure size 504x432 with 1 Axes>"
            ]
          },
          "metadata": {
            "tags": [],
            "needs_background": "light"
          }
        }
      ]
    },
    {
      "cell_type": "markdown",
      "metadata": {
        "id": "C939rMojZlHL"
      },
      "source": [
        "***Random Forest***"
      ]
    },
    {
      "cell_type": "code",
      "metadata": {
        "id": "T_eDORcuZj7M"
      },
      "source": [
        "pipe_rnd = pipe_rnd.fit(X_train, y_train)"
      ],
      "execution_count": null,
      "outputs": []
    },
    {
      "cell_type": "code",
      "metadata": {
        "id": "BBMJ5pUvZ9pO"
      },
      "source": [
        "y_score_rnd = pipe_rnd.predict_proba(X_test)\n",
        "fpr_rnd = dict()\n",
        "tpr_rnd = dict()\n",
        "roc_auc_rnd = dict()\n",
        "for i in range(n_classes):\n",
        "    fpr_rnd[i], tpr_rnd[i], _ = roc_curve(y_test[:, i], y_score_rnd[:, i])\n",
        "    roc_auc_rnd[i] = auc(fpr_rnd[i], tpr_rnd[i])"
      ],
      "execution_count": null,
      "outputs": []
    },
    {
      "cell_type": "code",
      "metadata": {
        "colab": {
          "base_uri": "https://localhost:8080/",
          "height": 395
        },
        "id": "ceKsPpyzaLmZ",
        "outputId": "f68d89ab-70cc-401a-9338-cb0922650cfd"
      },
      "source": [
        "lw = 2\n",
        "classes = [\"DoS\",\"D.P\",\"M.C\",\"M.O\",\"SC\",\"SP\",\"W.S\",\"NL\"]\n",
        "plt.figure(figsize=(7,6))\n",
        "ax=plt.subplot(111)\n",
        "colors = cycle(['red','maroon','navy','aqua', 'darkorange', 'cornflowerblue','olive','darkslategray'])\n",
        "for i, color in zip(range(n_classes), colors):\n",
        "    plt.plot(fpr_rnd[i], tpr_rnd[i], color=color, lw=lw,\n",
        "             label='{0} (area = {1:0.2f})'\n",
        "             ''.format(classes[i], roc_auc_rnd[i]))\n",
        "\n",
        "plt.plot([0, 1], [0, 1], 'k--', lw=lw)\n",
        "plt.xlim([0.0, 1.0])\n",
        "plt.ylim([0.0, 1.0])\n",
        "plt.xticks(fontsize=11,weight='bold')\n",
        "plt.yticks(fontsize=11,weight='bold')\n",
        "plt.setp(ax.spines.values(), linewidth=2)\n",
        "ax.xaxis.set_tick_params(width=2)\n",
        "ax.yaxis.set_tick_params(width=2)\n",
        "plt.xlabel('False Positive Rate',fontsize=12,weight='bold')\n",
        "plt.ylabel('True Positive Rate',fontsize=12,weight='bold')\n",
        "plt.legend(loc=\"lower right\")\n",
        "plt.savefig(\"ROC_of_Random_Forrest\")"
      ],
      "execution_count": null,
      "outputs": [
        {
          "output_type": "display_data",
          "data": {
            "image/png": "[encoded data removed]",
            "text/plain": [
              "<Figure size 504x432 with 1 Axes>"
            ]
          },
          "metadata": {
            "tags": [],
            "needs_background": "light"
          }
        }
      ]
    },
    {
      "cell_type": "markdown",
      "metadata": {
        "id": "qhsbiIJZaRNU"
      },
      "source": [
        "***ANN***"
      ]
    },
    {
      "cell_type": "code",
      "metadata": {
        "colab": {
          "base_uri": "https://localhost:8080/"
        },
        "id": "OjPyQT1naS_U",
        "outputId": "e78cb9fd-db42-4f0e-b5e9-f2678cdda736"
      },
      "source": [
        "pipe_mlp = pipe_mlp.fit(X_train, y_train)"
      ],
      "execution_count": null,
      "outputs": [
        {
          "output_type": "stream",
          "text": [
            "Iteration 1, loss = 0.01747635\n",
            "Iteration 2, loss = 0.01242359\n",
            "Iteration 3, loss = 0.01219138\n",
            "Iteration 4, loss = 0.01213977\n",
            "Iteration 5, loss = 0.01206942\n",
            "Iteration 6, loss = 0.01195333\n",
            "Iteration 7, loss = 0.01190263\n",
            "Iteration 8, loss = 0.01188070\n",
            "Iteration 9, loss = 0.01179250\n",
            "Iteration 10, loss = 0.01184380\n",
            "Iteration 11, loss = 0.01180049\n",
            "Iteration 12, loss = 0.01182816\n",
            "Iteration 13, loss = 0.01178547\n",
            "Iteration 14, loss = 0.01173279\n",
            "Iteration 15, loss = 0.01179253\n",
            "Iteration 16, loss = 0.01172668\n",
            "Iteration 17, loss = 0.01173873\n",
            "Training loss did not improve more than tol=0.000100 for 10 consecutive epochs. Stopping.\n",
            "Iteration 1, loss = 0.00544625\n",
            "Iteration 2, loss = 0.00202050\n",
            "Iteration 3, loss = 0.00149718\n",
            "Iteration 4, loss = 0.00114145\n",
            "Iteration 5, loss = 0.00089673\n",
            "Iteration 6, loss = 0.00071281\n",
            "Iteration 7, loss = 0.00055928\n",
            "Iteration 8, loss = 0.00044291\n",
            "Iteration 9, loss = 0.00035870\n",
            "Iteration 10, loss = 0.00029026\n",
            "Iteration 11, loss = 0.00023988\n",
            "Iteration 12, loss = 0.00021063\n",
            "Iteration 13, loss = 0.00017934\n",
            "Iteration 14, loss = 0.00016074\n",
            "Iteration 15, loss = 0.00014546\n",
            "Iteration 16, loss = 0.00013007\n",
            "Iteration 17, loss = 0.00011996\n",
            "Iteration 18, loss = 0.00011006\n",
            "Iteration 19, loss = 0.00010346\n",
            "Training loss did not improve more than tol=0.000100 for 10 consecutive epochs. Stopping.\n",
            "Iteration 1, loss = 0.00625678\n",
            "Iteration 2, loss = 0.00162347\n",
            "Iteration 3, loss = 0.00104493\n",
            "Iteration 4, loss = 0.00074767\n",
            "Iteration 5, loss = 0.00055283\n",
            "Iteration 6, loss = 0.00042909\n",
            "Iteration 7, loss = 0.00034367\n",
            "Iteration 8, loss = 0.00029106\n",
            "Iteration 9, loss = 0.00024622\n",
            "Iteration 10, loss = 0.00021310\n",
            "Iteration 11, loss = 0.00018807\n",
            "Iteration 12, loss = 0.00016777\n",
            "Iteration 13, loss = 0.00015081\n",
            "Iteration 14, loss = 0.00013832\n",
            "Iteration 15, loss = 0.00012815\n",
            "Iteration 16, loss = 0.00011725\n",
            "Iteration 17, loss = 0.00010939\n",
            "Training loss did not improve more than tol=0.000100 for 10 consecutive epochs. Stopping.\n",
            "Iteration 1, loss = 0.00653776\n",
            "Iteration 2, loss = 0.00118948\n",
            "Iteration 3, loss = 0.00059300\n",
            "Iteration 4, loss = 0.00038536\n",
            "Iteration 5, loss = 0.00028753\n",
            "Iteration 6, loss = 0.00023158\n",
            "Iteration 7, loss = 0.00019211\n",
            "Iteration 8, loss = 0.00016507\n",
            "Iteration 9, loss = 0.00014505\n",
            "Iteration 10, loss = 0.00012788\n",
            "Iteration 11, loss = 0.00011507\n",
            "Iteration 12, loss = 0.00010546\n",
            "Iteration 13, loss = 0.00009728\n",
            "Iteration 14, loss = 0.00009043\n",
            "Iteration 15, loss = 0.00008506\n",
            "Training loss did not improve more than tol=0.000100 for 10 consecutive epochs. Stopping.\n",
            "Iteration 1, loss = 0.01666346\n",
            "Iteration 2, loss = 0.00804104\n",
            "Iteration 3, loss = 0.00421951\n",
            "Iteration 4, loss = 0.00226472\n",
            "Iteration 5, loss = 0.00152418\n",
            "Iteration 6, loss = 0.00110817\n",
            "Iteration 7, loss = 0.00082296\n",
            "Iteration 8, loss = 0.00065706\n",
            "Iteration 9, loss = 0.00055434\n",
            "Iteration 10, loss = 0.00048644\n",
            "Iteration 11, loss = 0.00043228\n",
            "Iteration 12, loss = 0.00037591\n",
            "Iteration 13, loss = 0.00034192\n",
            "Iteration 14, loss = 0.00029698\n",
            "Iteration 15, loss = 0.00029522\n",
            "Iteration 16, loss = 0.00027136\n",
            "Iteration 17, loss = 0.00024899\n",
            "Iteration 18, loss = 0.00022930\n",
            "Iteration 19, loss = 0.00021059\n",
            "Iteration 20, loss = 0.00019590\n",
            "Training loss did not improve more than tol=0.000100 for 10 consecutive epochs. Stopping.\n",
            "Iteration 1, loss = 0.00846069\n",
            "Iteration 2, loss = 0.00445244\n",
            "Iteration 3, loss = 0.00294485\n",
            "Iteration 4, loss = 0.00184722\n",
            "Iteration 5, loss = 0.00122712\n",
            "Iteration 6, loss = 0.00083753\n",
            "Iteration 7, loss = 0.00059635\n",
            "Iteration 8, loss = 0.00046156\n",
            "Iteration 9, loss = 0.00037156\n",
            "Iteration 10, loss = 0.00031561\n",
            "Iteration 11, loss = 0.00026678\n",
            "Iteration 12, loss = 0.00023323\n",
            "Iteration 13, loss = 0.00020754\n",
            "Iteration 14, loss = 0.00018561\n",
            "Iteration 15, loss = 0.00016977\n",
            "Iteration 16, loss = 0.00015487\n",
            "Iteration 17, loss = 0.00014603\n",
            "Iteration 18, loss = 0.00013612\n",
            "Iteration 19, loss = 0.00012775\n",
            "Training loss did not improve more than tol=0.000100 for 10 consecutive epochs. Stopping.\n",
            "Iteration 1, loss = 0.00302240\n",
            "Iteration 2, loss = 0.00078646\n",
            "Iteration 3, loss = 0.00058064\n",
            "Iteration 4, loss = 0.00048731\n",
            "Iteration 5, loss = 0.00041422\n",
            "Iteration 6, loss = 0.00035437\n",
            "Iteration 7, loss = 0.00030490\n",
            "Iteration 8, loss = 0.00026450\n",
            "Iteration 9, loss = 0.00023188\n",
            "Iteration 10, loss = 0.00020541\n",
            "Iteration 11, loss = 0.00018365\n",
            "Iteration 12, loss = 0.00016574\n",
            "Iteration 13, loss = 0.00015079\n",
            "Iteration 14, loss = 0.00013828\n",
            "Training loss did not improve more than tol=0.000100 for 10 consecutive epochs. Stopping.\n",
            "Iteration 1, loss = 0.04467366\n",
            "Iteration 2, loss = 0.02507689\n",
            "Iteration 3, loss = 0.01943931\n",
            "Iteration 4, loss = 0.01716353\n",
            "Iteration 5, loss = 0.01601158\n",
            "Iteration 6, loss = 0.01547859\n",
            "Iteration 7, loss = 0.01495784\n",
            "Iteration 8, loss = 0.01474770\n",
            "Iteration 9, loss = 0.01424732\n",
            "Iteration 10, loss = 0.01439464\n",
            "Iteration 11, loss = 0.01400306\n",
            "Iteration 12, loss = 0.01397464\n",
            "Iteration 13, loss = 0.01401256\n",
            "Iteration 14, loss = 0.01369424\n",
            "Iteration 15, loss = 0.01388502\n",
            "Iteration 16, loss = 0.01370013\n",
            "Iteration 17, loss = 0.01344338\n",
            "Iteration 18, loss = 0.01344366\n",
            "Iteration 19, loss = 0.01350272\n",
            "Iteration 20, loss = 0.01336786\n",
            "Iteration 21, loss = 0.01330047\n",
            "Iteration 22, loss = 0.01323126\n",
            "Iteration 23, loss = 0.01313315\n",
            "Iteration 24, loss = 0.01313658\n",
            "Iteration 25, loss = 0.01308178\n",
            "Iteration 26, loss = 0.01311884\n",
            "Iteration 27, loss = 0.01288934\n",
            "Iteration 28, loss = 0.01296448\n",
            "Iteration 29, loss = 0.01288647\n",
            "Iteration 30, loss = 0.01293250\n",
            "Iteration 31, loss = 0.01283469\n",
            "Iteration 32, loss = 0.01272922\n",
            "Iteration 33, loss = 0.01285640\n",
            "Iteration 34, loss = 0.01280843\n",
            "Iteration 35, loss = 0.01270013\n",
            "Iteration 36, loss = 0.01271168\n",
            "Iteration 37, loss = 0.01265328\n",
            "Iteration 38, loss = 0.01276057\n",
            "Iteration 39, loss = 0.01279162\n",
            "Iteration 40, loss = 0.01278793\n",
            "Iteration 41, loss = 0.01257906\n",
            "Iteration 42, loss = 0.01257737\n",
            "Iteration 43, loss = 0.01259853\n",
            "Training loss did not improve more than tol=0.000100 for 10 consecutive epochs. Stopping.\n"
          ],
          "name": "stdout"
        }
      ]
    },
    {
      "cell_type": "code",
      "metadata": {
        "id": "jZvfcuKGbA-P"
      },
      "source": [
        "y_score_mlp = pipe_mlp.predict_proba(X_test)\n",
        "fpr_mlp = dict()\n",
        "tpr_mlp = dict()\n",
        "roc_auc_mlp = dict()\n",
        "for i in range(n_classes):\n",
        "    fpr_mlp[i], tpr_mlp[i], _ = roc_curve(y_test[:, i], y_score_mlp[:, i])\n",
        "    roc_auc_mlp[i] = auc(fpr_mlp[i], tpr_mlp[i])"
      ],
      "execution_count": null,
      "outputs": []
    },
    {
      "cell_type": "code",
      "metadata": {
        "colab": {
          "base_uri": "https://localhost:8080/",
          "height": 395
        },
        "id": "hS75STtWbFTa",
        "outputId": "3f592dde-9462-4063-fa4f-b01157f44f43"
      },
      "source": [
        "lw = 2\n",
        "classes = [\"DoS\",\"D.P\",\"M.C\",\"M.O\",\"SC\",\"SP\",\"W.S\",\"NL\"]\n",
        "plt.figure(figsize=(7,6))\n",
        "ax=plt.subplot(111)\n",
        "colors = cycle(['red','maroon','navy','aqua', 'darkorange', 'cornflowerblue','olive','darkslategray'])\n",
        "for i, color in zip(range(n_classes), colors):\n",
        "    plt.plot(fpr_mlp[i], tpr_mlp[i], color=color, lw=lw,\n",
        "             label='{0} (area = {1:0.2f})'\n",
        "             ''.format(classes[i], roc_auc_mlp[i]))\n",
        "\n",
        "plt.plot([0, 1], [0, 1], 'k--', lw=lw)\n",
        "plt.xlim([0.0, 1.0])\n",
        "plt.ylim([0.0, 1.0])\n",
        "plt.xticks(fontsize=11,weight='bold')\n",
        "plt.yticks(fontsize=11,weight='bold')\n",
        "plt.setp(ax.spines.values(), linewidth=2)\n",
        "ax.xaxis.set_tick_params(width=2)\n",
        "ax.yaxis.set_tick_params(width=2)\n",
        "plt.xlabel('False Positive Rate',fontsize=12,weight='bold')\n",
        "plt.ylabel('True Positive Rate',fontsize=12,weight='bold')\n",
        "plt.legend(loc=\"lower right\")\n",
        "plt.savefig(\"ROC_of_MLP\")"
      ],
      "execution_count": null,
      "outputs": [
        {
          "output_type": "display_data",
          "data": {
            "image/png": "[encoded data removed]",
            "text/plain": [
              "<Figure size 504x432 with 1 Axes>"
            ]
          },
          "metadata": {
            "tags": [],
            "needs_background": "light"
          }
        }
      ]
    },
    {
      "cell_type": "markdown",
      "metadata": {
        "id": "t3kE0-5trMAn"
      },
      "source": [
        "***This Notebook starts from Preprocessed Dataframework. \"df_spark.csv\" is the dataframe***"
      ]
    },
    {
      "cell_type": "code",
      "metadata": {
        "id": "DxCbWm-me353"
      },
      "source": [
        "import pandas as pd"
      ],
      "execution_count": null,
      "outputs": []
    },
    {
      "cell_type": "code",
      "metadata": {
        "id": "RV0w4HPpgB5z"
      },
      "source": [
        "df_spark = pd.read_csv('df_spark.csv')"
      ],
      "execution_count": null,
      "outputs": []
    },
    {
      "cell_type": "code",
      "metadata": {
        "colab": {
          "base_uri": "https://localhost:8080/",
          "height": 206
        },
        "id": "GiUmDm9CgOzm",
        "outputId": "6b16fabb-8ef9-461d-ad4f-999a1013b6c4"
      },
      "source": [
        "df_spark.head()"
      ],
      "execution_count": null,
      "outputs": [
        {
          "output_type": "execute_result",
          "data": {
            "text/html": [
              "<div>\n",
              "<style scoped>\n",
              "    .dataframe tbody tr th:only-of-type {\n",
              "        vertical-align: middle;\n",
              "    }\n",
              "\n",
              "    .dataframe tbody tr th {\n",
              "        vertical-align: top;\n",
              "    }\n",
              "\n",
              "    .dataframe thead th {\n",
              "        text-align: right;\n",
              "    }\n",
              "</style>\n",
              "<table border=\"1\" class=\"dataframe\">\n",
              "  <thead>\n",
              "    <tr style=\"text-align: right;\">\n",
              "      <th></th>\n",
              "      <th>Unnamed: 0</th>\n",
              "      <th>0</th>\n",
              "      <th>1</th>\n",
              "      <th>2</th>\n",
              "      <th>3</th>\n",
              "      <th>4</th>\n",
              "      <th>5</th>\n",
              "      <th>6</th>\n",
              "      <th>7</th>\n",
              "      <th>8</th>\n",
              "      <th>9</th>\n",
              "      <th>10</th>\n",
              "      <th>11</th>\n",
              "    </tr>\n",
              "  </thead>\n",
              "  <tbody>\n",
              "    <tr>\n",
              "      <th>0</th>\n",
              "      <td>0</td>\n",
              "      <td>7.0</td>\n",
              "      <td>21.0</td>\n",
              "      <td>30.0</td>\n",
              "      <td>2.0</td>\n",
              "      <td>3.0</td>\n",
              "      <td>30.0</td>\n",
              "      <td>2.0</td>\n",
              "      <td>3.0</td>\n",
              "      <td>59.0</td>\n",
              "      <td>7.0</td>\n",
              "      <td>2.0</td>\n",
              "      <td>0.0</td>\n",
              "    </tr>\n",
              "    <tr>\n",
              "      <th>1</th>\n",
              "      <td>1</td>\n",
              "      <td>7.0</td>\n",
              "      <td>32.0</td>\n",
              "      <td>70.0</td>\n",
              "      <td>2.0</td>\n",
              "      <td>4.0</td>\n",
              "      <td>68.0</td>\n",
              "      <td>2.0</td>\n",
              "      <td>4.0</td>\n",
              "      <td>134.0</td>\n",
              "      <td>7.0</td>\n",
              "      <td>2.0</td>\n",
              "      <td>0.0</td>\n",
              "    </tr>\n",
              "    <tr>\n",
              "      <th>2</th>\n",
              "      <td>2</td>\n",
              "      <td>7.0</td>\n",
              "      <td>15.0</td>\n",
              "      <td>1.0</td>\n",
              "      <td>2.0</td>\n",
              "      <td>2.0</td>\n",
              "      <td>0.0</td>\n",
              "      <td>2.0</td>\n",
              "      <td>2.0</td>\n",
              "      <td>0.0</td>\n",
              "      <td>7.0</td>\n",
              "      <td>2.0</td>\n",
              "      <td>0.0</td>\n",
              "    </tr>\n",
              "    <tr>\n",
              "      <th>3</th>\n",
              "      <td>3</td>\n",
              "      <td>7.0</td>\n",
              "      <td>33.0</td>\n",
              "      <td>77.0</td>\n",
              "      <td>2.0</td>\n",
              "      <td>7.0</td>\n",
              "      <td>73.0</td>\n",
              "      <td>2.0</td>\n",
              "      <td>7.0</td>\n",
              "      <td>144.0</td>\n",
              "      <td>7.0</td>\n",
              "      <td>2.0</td>\n",
              "      <td>0.0</td>\n",
              "    </tr>\n",
              "    <tr>\n",
              "      <th>4</th>\n",
              "      <td>4</td>\n",
              "      <td>7.0</td>\n",
              "      <td>55.0</td>\n",
              "      <td>78.0</td>\n",
              "      <td>3.0</td>\n",
              "      <td>7.0</td>\n",
              "      <td>74.0</td>\n",
              "      <td>3.0</td>\n",
              "      <td>7.0</td>\n",
              "      <td>146.0</td>\n",
              "      <td>8.0</td>\n",
              "      <td>2.0</td>\n",
              "      <td>0.0</td>\n",
              "    </tr>\n",
              "  </tbody>\n",
              "</table>\n",
              "</div>"
            ],
            "text/plain": [
              "   Unnamed: 0    0     1     2    3    4     5    6    7      8    9   10   11\n",
              "0           0  7.0  21.0  30.0  2.0  3.0  30.0  2.0  3.0   59.0  7.0  2.0  0.0\n",
              "1           1  7.0  32.0  70.0  2.0  4.0  68.0  2.0  4.0  134.0  7.0  2.0  0.0\n",
              "2           2  7.0  15.0   1.0  2.0  2.0   0.0  2.0  2.0    0.0  7.0  2.0  0.0\n",
              "3           3  7.0  33.0  77.0  2.0  7.0  73.0  2.0  7.0  144.0  7.0  2.0  0.0\n",
              "4           4  7.0  55.0  78.0  3.0  7.0  74.0  3.0  7.0  146.0  8.0  2.0  0.0"
            ]
          },
          "metadata": {
            "tags": []
          },
          "execution_count": 3
        }
      ]
    },
    {
      "cell_type": "code",
      "metadata": {
        "id": "EBZ8cGCcgawR"
      },
      "source": [
        "df_spark = df_spark.drop(columns=\"Unnamed: 0\")"
      ],
      "execution_count": null,
      "outputs": []
    },
    {
      "cell_type": "code",
      "metadata": {
        "colab": {
          "base_uri": "https://localhost:8080/",
          "height": 206
        },
        "id": "mgt1eOYVgfJV",
        "outputId": "64907703-9d38-40cd-b8b2-8777074bc19b"
      },
      "source": [
        "df_spark.head()"
      ],
      "execution_count": null,
      "outputs": [
        {
          "output_type": "execute_result",
          "data": {
            "text/html": [
              "<div>\n",
              "<style scoped>\n",
              "    .dataframe tbody tr th:only-of-type {\n",
              "        vertical-align: middle;\n",
              "    }\n",
              "\n",
              "    .dataframe tbody tr th {\n",
              "        vertical-align: top;\n",
              "    }\n",
              "\n",
              "    .dataframe thead th {\n",
              "        text-align: right;\n",
              "    }\n",
              "</style>\n",
              "<table border=\"1\" class=\"dataframe\">\n",
              "  <thead>\n",
              "    <tr style=\"text-align: right;\">\n",
              "      <th></th>\n",
              "      <th>0</th>\n",
              "      <th>1</th>\n",
              "      <th>2</th>\n",
              "      <th>3</th>\n",
              "      <th>4</th>\n",
              "      <th>5</th>\n",
              "      <th>6</th>\n",
              "      <th>7</th>\n",
              "      <th>8</th>\n",
              "      <th>9</th>\n",
              "      <th>10</th>\n",
              "      <th>11</th>\n",
              "    </tr>\n",
              "  </thead>\n",
              "  <tbody>\n",
              "    <tr>\n",
              "      <th>0</th>\n",
              "      <td>7.0</td>\n",
              "      <td>21.0</td>\n",
              "      <td>30.0</td>\n",
              "      <td>2.0</td>\n",
              "      <td>3.0</td>\n",
              "      <td>30.0</td>\n",
              "      <td>2.0</td>\n",
              "      <td>3.0</td>\n",
              "      <td>59.0</td>\n",
              "      <td>7.0</td>\n",
              "      <td>2.0</td>\n",
              "      <td>0.0</td>\n",
              "    </tr>\n",
              "    <tr>\n",
              "      <th>1</th>\n",
              "      <td>7.0</td>\n",
              "      <td>32.0</td>\n",
              "      <td>70.0</td>\n",
              "      <td>2.0</td>\n",
              "      <td>4.0</td>\n",
              "      <td>68.0</td>\n",
              "      <td>2.0</td>\n",
              "      <td>4.0</td>\n",
              "      <td>134.0</td>\n",
              "      <td>7.0</td>\n",
              "      <td>2.0</td>\n",
              "      <td>0.0</td>\n",
              "    </tr>\n",
              "    <tr>\n",
              "      <th>2</th>\n",
              "      <td>7.0</td>\n",
              "      <td>15.0</td>\n",
              "      <td>1.0</td>\n",
              "      <td>2.0</td>\n",
              "      <td>2.0</td>\n",
              "      <td>0.0</td>\n",
              "      <td>2.0</td>\n",
              "      <td>2.0</td>\n",
              "      <td>0.0</td>\n",
              "      <td>7.0</td>\n",
              "      <td>2.0</td>\n",
              "      <td>0.0</td>\n",
              "    </tr>\n",
              "    <tr>\n",
              "      <th>3</th>\n",
              "      <td>7.0</td>\n",
              "      <td>33.0</td>\n",
              "      <td>77.0</td>\n",
              "      <td>2.0</td>\n",
              "      <td>7.0</td>\n",
              "      <td>73.0</td>\n",
              "      <td>2.0</td>\n",
              "      <td>7.0</td>\n",
              "      <td>144.0</td>\n",
              "      <td>7.0</td>\n",
              "      <td>2.0</td>\n",
              "      <td>0.0</td>\n",
              "    </tr>\n",
              "    <tr>\n",
              "      <th>4</th>\n",
              "      <td>7.0</td>\n",
              "      <td>55.0</td>\n",
              "      <td>78.0</td>\n",
              "      <td>3.0</td>\n",
              "      <td>7.0</td>\n",
              "      <td>74.0</td>\n",
              "      <td>3.0</td>\n",
              "      <td>7.0</td>\n",
              "      <td>146.0</td>\n",
              "      <td>8.0</td>\n",
              "      <td>2.0</td>\n",
              "      <td>0.0</td>\n",
              "    </tr>\n",
              "  </tbody>\n",
              "</table>\n",
              "</div>"
            ],
            "text/plain": [
              "     0     1     2    3    4     5    6    7      8    9   10   11\n",
              "0  7.0  21.0  30.0  2.0  3.0  30.0  2.0  3.0   59.0  7.0  2.0  0.0\n",
              "1  7.0  32.0  70.0  2.0  4.0  68.0  2.0  4.0  134.0  7.0  2.0  0.0\n",
              "2  7.0  15.0   1.0  2.0  2.0   0.0  2.0  2.0    0.0  7.0  2.0  0.0\n",
              "3  7.0  33.0  77.0  2.0  7.0  73.0  2.0  7.0  144.0  7.0  2.0  0.0\n",
              "4  7.0  55.0  78.0  3.0  7.0  74.0  3.0  7.0  146.0  8.0  2.0  0.0"
            ]
          },
          "metadata": {
            "tags": []
          },
          "execution_count": 5
        }
      ]
    },
    {
      "cell_type": "markdown",
      "metadata": {
        "id": "TYZi4Lx_rSQZ"
      },
      "source": [
        "***In the following code X contains features and y contains label***"
      ]
    },
    {
      "cell_type": "code",
      "metadata": {
        "id": "bb65vFvQgjzc"
      },
      "source": [
        "y = df_spark.iloc[:,0].values\n",
        "X = df_spark.iloc[:,1:].values"
      ],
      "execution_count": null,
      "outputs": []
    },
    {
      "cell_type": "markdown",
      "metadata": {
        "id": "cNe9B58prWbR"
      },
      "source": [
        "***The whole dataset is split into 80:20 ratio. X_train contains 80% of the features, X_test contains 20% of the features and y_train contains 80% corresponding label of X_train and y_test contains 20% corresponding label of X_test***"
      ]
    },
    {
      "cell_type": "code",
      "metadata": {
        "id": "Q0a3JeNWgo34"
      },
      "source": [
        "from sklearn.model_selection import train_test_split\n",
        "X_train, X_test, y_train, y_test = train_test_split(X,y, test_size=0.20, random_state = 1)"
      ],
      "execution_count": null,
      "outputs": []
    },
    {
      "cell_type": "code",
      "metadata": {
        "id": "hNN1MOeugsvz"
      },
      "source": [
        "from sklearn.preprocessing import StandardScaler\n",
        "from sklearn.pipeline import Pipeline\n",
        "from sklearn.linear_model import LogisticRegression\n",
        "from sklearn.model_selection import cross_val_score\n",
        "import matplotlib.pyplot as plt\n",
        "from sklearn.model_selection import learning_curve\n",
        "import numpy as np"
      ],
      "execution_count": null,
      "outputs": []
    },
    {
      "cell_type": "markdown",
      "metadata": {
        "id": "tOdqdApqrjWl"
      },
      "source": [
        "***Cross validation for Logistic Regression***"
      ]
    },
    {
      "cell_type": "code",
      "metadata": {
        "id": "NvbC7VyCgwuE"
      },
      "source": [
        "pipe_lr = Pipeline([('scl', StandardScaler()),('clf', LogisticRegression(penalty='l2', random_state=0))])\n",
        "train_sizes, train_scores, test_scores = learning_curve(estimator=pipe_lr,X=X, y=y, train_sizes=np.linspace(0.2,1.0,5), cv=5, n_jobs=-1)\n",
        "train_mean = np.mean(train_scores, axis=1)\n",
        "train_std = np.std(train_scores, axis=1)\n",
        "test_mean = np.mean(test_scores, axis=1)\n",
        "test_std = np.std(test_scores, axis=1)"
      ],
      "execution_count": null,
      "outputs": []
    },
    {
      "cell_type": "code",
      "metadata": {
        "colab": {
          "base_uri": "https://localhost:8080/"
        },
        "id": "uAdmizLJhv82",
        "outputId": "b2bbe12c-f8a0-4ff0-d9a6-dd7182aabca1"
      },
      "source": [
        "for i in train_sizes:\n",
        "    print(i)"
      ],
      "execution_count": null,
      "outputs": [
        {
          "output_type": "stream",
          "text": [
            "57270\n",
            "114540\n",
            "171811\n",
            "229081\n",
            "286352\n"
          ],
          "name": "stdout"
        }
      ]
    },
    {
      "cell_type": "code",
      "metadata": {
        "colab": {
          "base_uri": "https://localhost:8080/"
        },
        "id": "mdMNSnHLhzhb",
        "outputId": "9d99bafb-f4db-45cf-8005-85ca457aa3d7"
      },
      "source": [
        "for i in train_mean:\n",
        "    print(i)"
      ],
      "execution_count": null,
      "outputs": [
        {
          "output_type": "stream",
          "text": [
            "0.9864361795006111\n",
            "0.986911122751877\n",
            "0.9868308781160694\n",
            "0.9865846578284538\n",
            "0.9883136838576296\n"
          ],
          "name": "stdout"
        }
      ]
    },
    {
      "cell_type": "code",
      "metadata": {
        "colab": {
          "base_uri": "https://localhost:8080/"
        },
        "id": "biGLKb_Wh3zG",
        "outputId": "0d2d5f0f-8c1c-4d0b-bc72-890e29e3a9ba"
      },
      "source": [
        "for i in test_mean:\n",
        "    print(i)"
      ],
      "execution_count": null,
      "outputs": [
        {
          "output_type": "stream",
          "text": [
            "0.8969772041405518\n",
            "0.8779824156058529\n",
            "0.9781109282961822\n",
            "0.9846064215159688\n",
            "0.9880902458937426\n"
          ],
          "name": "stdout"
        }
      ]
    },
    {
      "cell_type": "markdown",
      "metadata": {
        "id": "xDcN1nZerq4i"
      },
      "source": [
        "***Cross validation for SVM***"
      ]
    },
    {
      "cell_type": "code",
      "metadata": {
        "id": "7rdHV7hLh7Qm"
      },
      "source": [
        "from sklearn.svm import LinearSVC"
      ],
      "execution_count": null,
      "outputs": []
    },
    {
      "cell_type": "code",
      "metadata": {
        "id": "4xRs73nUh-hl"
      },
      "source": [
        "pipe_svc = Pipeline([('scl', StandardScaler()),('clf', LinearSVC())])\n",
        "train_sizes_svc, train_scores_svc, test_scores_svc = learning_curve(estimator=pipe_svc,X=X, y=y, train_sizes=np.linspace(0.2,1.0,5), cv=5, n_jobs=-1)\n",
        "train_mean_svc = np.mean(train_scores_svc, axis=1)\n",
        "train_std_svc = np.std(train_scores_svc, axis=1)\n",
        "test_mean_svc = np.mean(test_scores_svc, axis=1)\n",
        "test_std_svc = np.std(test_scores_svc, axis=1)"
      ],
      "execution_count": null,
      "outputs": []
    },
    {
      "cell_type": "code",
      "metadata": {
        "colab": {
          "base_uri": "https://localhost:8080/"
        },
        "id": "0dZfLyv2mALP",
        "outputId": "a0efd8f5-e95b-431d-8c13-da0e4a0ff9b6"
      },
      "source": [
        "for i in train_mean_svc:\n",
        "    print(i)"
      ],
      "execution_count": null,
      "outputs": [
        {
          "output_type": "stream",
          "text": [
            "0.9826540946394273\n",
            "0.981639601885804\n",
            "0.9856668082951614\n",
            "0.9823267752454372\n",
            "0.9829803877744873\n"
          ],
          "name": "stdout"
        }
      ]
    },
    {
      "cell_type": "code",
      "metadata": {
        "colab": {
          "base_uri": "https://localhost:8080/"
        },
        "id": "qFIjGUs9mDJb",
        "outputId": "08a7df8c-bdf4-4580-806c-7a784127c8f9"
      },
      "source": [
        "for i in test_mean_svc:\n",
        "    print(i)"
      ],
      "execution_count": null,
      "outputs": [
        {
          "output_type": "stream",
          "text": [
            "0.9603062688826753\n",
            "0.9711907748218677\n",
            "0.9774767477765417\n",
            "0.9796111876180309\n",
            "0.9825781652457415\n"
          ],
          "name": "stdout"
        }
      ]
    },
    {
      "cell_type": "markdown",
      "metadata": {
        "id": "LILxU5Farx4D"
      },
      "source": [
        "***Cross validation for Decision Tree***"
      ]
    },
    {
      "cell_type": "code",
      "metadata": {
        "id": "4f4W9UVdmHd5"
      },
      "source": [
        "from sklearn import tree"
      ],
      "execution_count": null,
      "outputs": []
    },
    {
      "cell_type": "code",
      "metadata": {
        "id": "cMnPvPOCmK1J"
      },
      "source": [
        "pipe_tree = Pipeline([('scl', StandardScaler()),('clf', tree.DecisionTreeClassifier())])\n",
        "train_sizes_tree, train_scores_tree, test_scores_tree = learning_curve(estimator=pipe_tree,X=X, y=y, train_sizes=np.linspace(0.2,1.0,5), cv=5, n_jobs=-1)\n",
        "train_mean_tree = np.mean(train_scores_tree, axis=1)\n",
        "train_std_tree = np.std(train_scores_tree, axis=1)\n",
        "test_mean_tree = np.mean(test_scores_tree, axis=1)\n",
        "test_std_tree = np.std(test_scores_tree, axis=1)"
      ],
      "execution_count": null,
      "outputs": []
    },
    {
      "cell_type": "code",
      "metadata": {
        "colab": {
          "base_uri": "https://localhost:8080/"
        },
        "id": "TXUN1bosmlsV",
        "outputId": "ecf8408c-1939-4481-ae94-9186b52eb4ba"
      },
      "source": [
        "for i in train_mean_tree:\n",
        "    print(i)"
      ],
      "execution_count": null,
      "outputs": [
        {
          "output_type": "stream",
          "text": [
            "0.9866876200453991\n",
            "0.9884634188929631\n",
            "0.9906874414327372\n",
            "0.9928566751498378\n",
            "0.9942169078616528\n"
          ],
          "name": "stdout"
        }
      ]
    },
    {
      "cell_type": "code",
      "metadata": {
        "colab": {
          "base_uri": "https://localhost:8080/"
        },
        "id": "F7tGydL2mpF7",
        "outputId": "c822eb54-51bb-4e60-b6e8-8121e32c9b6d"
      },
      "source": [
        "for i in test_mean_tree:\n",
        "    print(i)"
      ],
      "execution_count": null,
      "outputs": [
        {
          "output_type": "stream",
          "text": [
            "0.9693971624416144\n",
            "0.8911103060971725\n",
            "0.9801755125563556\n",
            "0.9884115207121322\n",
            "0.9934849944892686\n"
          ],
          "name": "stdout"
        }
      ]
    },
    {
      "cell_type": "markdown",
      "metadata": {
        "id": "bIrnfKFBr5rn"
      },
      "source": [
        "***Cross validation for Random Forest***"
      ]
    },
    {
      "cell_type": "code",
      "metadata": {
        "id": "FYptLetFmsdr"
      },
      "source": [
        "from sklearn.ensemble import RandomForestClassifier"
      ],
      "execution_count": null,
      "outputs": []
    },
    {
      "cell_type": "code",
      "metadata": {
        "id": "n0CroEgZmvlq"
      },
      "source": [
        "pipe_rnd = Pipeline([('scl', StandardScaler()),('clf', RandomForestClassifier(n_estimators=10))])\n",
        "train_sizes_rnd, train_scores_rnd, test_scores_rnd = learning_curve(estimator=pipe_rnd,X=X, y=y, train_sizes=np.linspace(0.2,1.0,5), cv=5, n_jobs=-1)\n",
        "train_mean_rnd = np.mean(train_scores_rnd, axis=1)\n",
        "train_std_rnd = np.std(train_scores_rnd, axis=1)\n",
        "test_mean_rnd = np.mean(test_scores_rnd, axis=1)\n",
        "test_std_rnd = np.std(test_scores_rnd, axis=1)"
      ],
      "execution_count": null,
      "outputs": []
    },
    {
      "cell_type": "code",
      "metadata": {
        "colab": {
          "base_uri": "https://localhost:8080/"
        },
        "id": "NUkbfOXmnCm5",
        "outputId": "f6df376a-f535-472b-c710-80e45784c1a5"
      },
      "source": [
        "for i in train_mean_rnd:\n",
        "    print(i)"
      ],
      "execution_count": null,
      "outputs": [
        {
          "output_type": "stream",
          "text": [
            "0.9866876200453991\n",
            "0.9884634188929631\n",
            "0.9906874414327372\n",
            "0.9928558020962017\n",
            "0.9942162094205734\n"
          ],
          "name": "stdout"
        }
      ]
    },
    {
      "cell_type": "code",
      "metadata": {
        "colab": {
          "base_uri": "https://localhost:8080/"
        },
        "id": "adWmiN1BnFOB",
        "outputId": "15daa5f5-8b04-4593-96e8-b4385c2d5f27"
      },
      "source": [
        "for i in test_mean_rnd:\n",
        "    print(i)"
      ],
      "execution_count": null,
      "outputs": [
        {
          "output_type": "stream",
          "text": [
            "0.968444488731112\n",
            "0.966474892340677\n",
            "0.9801699251057695\n",
            "0.9884813648200831\n",
            "0.9932195868400298\n"
          ],
          "name": "stdout"
        }
      ]
    },
    {
      "cell_type": "markdown",
      "metadata": {
        "id": "yKjQU6tUsWJB"
      },
      "source": [
        "***Cross validation for ANN***"
      ]
    },
    {
      "cell_type": "code",
      "metadata": {
        "id": "Jis0LMNHnJKe"
      },
      "source": [
        "from sklearn.neural_network import MLPClassifier\n",
        "mlp = MLPClassifier(hidden_layer_sizes=(50,), max_iter=10, alpha=1e-4, solver='sgd', verbose=10, tol=1e-4, random_state=1, learning_rate_init=.1)"
      ],
      "execution_count": null,
      "outputs": []
    },
    {
      "cell_type": "code",
      "metadata": {
        "colab": {
          "base_uri": "https://localhost:8080/"
        },
        "id": "y26pgF-snMeb",
        "outputId": "4773d659-d57a-450b-f10f-c543d37cfa2a"
      },
      "source": [
        "pipe_mlp = Pipeline([('scl', StandardScaler()),('clf', mlp)])\n",
        "train_sizes_mlp, train_scores_mlp, test_scores_mlp = learning_curve(estimator=pipe_mlp,X=X, y=y, train_sizes=np.linspace(0.2,1.0,5), cv=5, n_jobs=-1)\n",
        "train_mean_mlp = np.mean(train_scores_mlp, axis=1)\n",
        "train_std_mlp = np.std(train_scores_mlp, axis=1)\n",
        "test_mean_mlp = np.mean(test_scores_mlp, axis=1)\n",
        "test_std_mlp = np.std(test_scores_mlp, axis=1)"
      ],
      "execution_count": null,
      "outputs": [
        {
          "output_type": "stream",
          "text": [
            "/usr/local/lib/python3.6/dist-packages/joblib/externals/loky/process_executor.py:691: UserWarning: A worker stopped while some jobs were given to the executor. This can be caused by a too short worker timeout or by a memory leak.\n",
            "  \"timeout or by a memory leak.\", UserWarning\n"
          ],
          "name": "stderr"
        }
      ]
    },
    {
      "cell_type": "code",
      "metadata": {
        "colab": {
          "base_uri": "https://localhost:8080/"
        },
        "id": "G7MRcny_nSRQ",
        "outputId": "212eb8cd-3b84-4782-dc2c-ca7e4f90f280"
      },
      "source": [
        "for i in train_mean_mlp:\n",
        "    print(i)"
      ],
      "execution_count": null,
      "outputs": [
        {
          "output_type": "stream",
          "text": [
            "0.985339619346953\n",
            "0.9879710144927536\n",
            "0.9900728125672977\n",
            "0.9914135174894468\n",
            "0.9941638263396101\n"
          ],
          "name": "stdout"
        }
      ]
    },
    {
      "cell_type": "code",
      "metadata": {
        "colab": {
          "base_uri": "https://localhost:8080/"
        },
        "id": "cmohd8MGn6Kk",
        "outputId": "c8b575c4-637f-464e-f1c8-e0f5d9924455"
      },
      "source": [
        "for i in test_mean_mlp:\n",
        "    print(i)"
      ],
      "execution_count": null,
      "outputs": [
        {
          "output_type": "stream",
          "text": [
            "0.9150305087344645\n",
            "0.9029139603799254\n",
            "0.9762279246286383\n",
            "0.9843633560982139\n",
            "0.9930882811268583\n"
          ],
          "name": "stdout"
        }
      ]
    },
    {
      "cell_type": "markdown",
      "metadata": {
        "id": "EGuKEy8RslMY"
      },
      "source": [
        "***Mean values of Training and Testing***"
      ]
    },
    {
      "cell_type": "code",
      "metadata": {
        "colab": {
          "base_uri": "https://localhost:8080/"
        },
        "id": "dSd0wfm2n-As",
        "outputId": "3eeb4207-1158-4316-83d4-c61ebac5d96d"
      },
      "source": [
        "np.mean(train_mean) , np.mean(train_mean_svc), np.mean(train_mean_tree), np.mean(train_mean_rnd), np.mean(train_mean_mlp)"
      ],
      "execution_count": null,
      "outputs": [
        {
          "output_type": "execute_result",
          "data": {
            "text/plain": [
              "(0.9870153044109282,\n",
              " 0.9830535335680635,\n",
              " 0.990582412676518,\n",
              " 0.9905820983775749,\n",
              " 0.9897921580472122)"
            ]
          },
          "metadata": {
            "tags": []
          },
          "execution_count": 29
        }
      ]
    },
    {
      "cell_type": "code",
      "metadata": {
        "colab": {
          "base_uri": "https://localhost:8080/"
        },
        "id": "6W1uosWMoB3y",
        "outputId": "8fee83f0-f895-4af3-f110-a18341336815"
      },
      "source": [
        "np.mean(train_std) , np.mean(train_std_svc), np.mean(train_std_tree), np.mean(train_std_rnd), np.mean(train_std_mlp)"
      ],
      "execution_count": null,
      "outputs": [
        {
          "output_type": "execute_result",
          "data": {
            "text/plain": [
              "(0.0019013015128786458,\n",
              " 0.0028917520586866515,\n",
              " 0.0018731735038651147,\n",
              " 0.0018731948589482625,\n",
              " 0.002748992366444652)"
            ]
          },
          "metadata": {
            "tags": []
          },
          "execution_count": 30
        }
      ]
    },
    {
      "cell_type": "code",
      "metadata": {
        "colab": {
          "base_uri": "https://localhost:8080/"
        },
        "id": "OrQ7nkGboFFN",
        "outputId": "cab814bc-0f88-4e4e-82ee-3f61808afc1e"
      },
      "source": [
        "np.mean(test_mean) , np.mean(test_mean_svc), np.mean(test_mean_tree), np.mean(test_mean_rnd), np.mean(test_mean_mlp)"
      ],
      "execution_count": null,
      "outputs": [
        {
          "output_type": "execute_result",
          "data": {
            "text/plain": [
              "(0.9451534430904596,\n",
              " 0.9742326288689714,\n",
              " 0.9645158992593087,\n",
              " 0.9793580515675343,\n",
              " 0.95432480619362)"
            ]
          },
          "metadata": {
            "tags": []
          },
          "execution_count": 31
        }
      ]
    },
    {
      "cell_type": "code",
      "metadata": {
        "id": "lA_ksWxtoH-l"
      },
      "source": [
        "np.mean(test_std) , np.mean(test_std_svc), np.mean(test_std_tree), np.mean(test_std_rnd), np.mean(test_std_mlp)"
      ],
      "execution_count": null,
      "outputs": []
    },
    {
      "cell_type": "markdown",
      "metadata": {
        "id": "sblLUPh9svLD"
      },
      "source": [
        "***Evaluation Metrics for Logisitic Regression***"
      ]
    },
    {
      "cell_type": "code",
      "metadata": {
        "colab": {
          "base_uri": "https://localhost:8080/"
        },
        "id": "JYrBpQ4voLTp",
        "outputId": "44f8bb36-d662-4885-e00c-17fb56fff897"
      },
      "source": [
        "pipe_lr = pipe_lr.fit(X_train, y_train)"
      ],
      "execution_count": null,
      "outputs": [
        {
          "output_type": "stream",
          "text": [
            "/usr/local/lib/python3.6/dist-packages/sklearn/linear_model/_logistic.py:940: ConvergenceWarning: lbfgs failed to converge (status=1):\n",
            "STOP: TOTAL NO. of ITERATIONS REACHED LIMIT.\n",
            "\n",
            "Increase the number of iterations (max_iter) or scale the data as shown in:\n",
            "    https://scikit-learn.org/stable/modules/preprocessing.html\n",
            "Please also refer to the documentation for alternative solver options:\n",
            "    https://scikit-learn.org/stable/modules/linear_model.html#logistic-regression\n",
            "  extra_warning_msg=_LOGISTIC_SOLVER_CONVERGENCE_MSG)\n"
          ],
          "name": "stderr"
        }
      ]
    },
    {
      "cell_type": "code",
      "metadata": {
        "id": "TgHsu-cioW-Y"
      },
      "source": [
        "y_pred_train = pipe_lr.predict(X_train)"
      ],
      "execution_count": null,
      "outputs": []
    },
    {
      "cell_type": "code",
      "metadata": {
        "id": "75a-7qGtoaX2"
      },
      "source": [
        "y_pred_test = pipe_lr.predict(X_test)"
      ],
      "execution_count": null,
      "outputs": []
    },
    {
      "cell_type": "code",
      "metadata": {
        "id": "pUr8PyhcodY8"
      },
      "source": [
        "from sklearn.metrics import accuracy_score"
      ],
      "execution_count": null,
      "outputs": []
    },
    {
      "cell_type": "code",
      "metadata": {
        "colab": {
          "base_uri": "https://localhost:8080/"
        },
        "id": "vGbsK5CRogZO",
        "outputId": "61408ea7-1c7f-48d6-ab96-05c5d7fed190"
      },
      "source": [
        "accuracy_score(y_train, y_pred_train)"
      ],
      "execution_count": null,
      "outputs": [
        {
          "output_type": "execute_result",
          "data": {
            "text/plain": [
              "0.9885455662960273"
            ]
          },
          "metadata": {
            "tags": []
          },
          "execution_count": 36
        }
      ]
    },
    {
      "cell_type": "code",
      "metadata": {
        "colab": {
          "base_uri": "https://localhost:8080/"
        },
        "id": "pib5GHagokN6",
        "outputId": "0923836c-fcdf-4251-b5e1-e10a0c555bd3"
      },
      "source": [
        "accuracy_score(y_test, y_pred_test)"
      ],
      "execution_count": null,
      "outputs": [
        {
          "output_type": "execute_result",
          "data": {
            "text/plain": [
              "0.9881406361312493"
            ]
          },
          "metadata": {
            "tags": []
          },
          "execution_count": 37
        }
      ]
    },
    {
      "cell_type": "code",
      "metadata": {
        "id": "98Fd2bJ4onjL"
      },
      "source": [
        "from sklearn.metrics import classification_report"
      ],
      "execution_count": null,
      "outputs": []
    },
    {
      "cell_type": "code",
      "metadata": {
        "id": "8TTfun0FoqiO"
      },
      "source": [
        "target_names = ['Normal', 'DoSattack', 'scan', 'malitiousControl', 'malitiousOperation', 'spying', 'dataProbing', 'wrongSetUp']"
      ],
      "execution_count": null,
      "outputs": []
    },
    {
      "cell_type": "code",
      "metadata": {
        "colab": {
          "base_uri": "https://localhost:8080/"
        },
        "id": "JSjVgDRzot1q",
        "outputId": "0d576776-f034-4f62-9399-c7dc7599db3c"
      },
      "source": [
        "print(classification_report(y_train, y_pred_train, target_names=target_names))"
      ],
      "execution_count": null,
      "outputs": [
        {
          "output_type": "stream",
          "text": [
            "/usr/local/lib/python3.6/dist-packages/sklearn/metrics/_classification.py:1272: UndefinedMetricWarning: Precision and F-score are ill-defined and being set to 0.0 in labels with no predicted samples. Use `zero_division` parameter to control this behavior.\n",
            "  _warn_prf(average, modifier, msg_start, len(result))\n"
          ],
          "name": "stderr"
        },
        {
          "output_type": "stream",
          "text": [
            "                    precision    recall  f1-score   support\n",
            "\n",
            "            Normal       0.96      0.65      0.78      4602\n",
            "         DoSattack       1.00      0.59      0.74       279\n",
            "              scan       0.98      0.96      0.97       720\n",
            "  malitiousControl       0.97      0.48      0.64       650\n",
            "malitiousOperation       0.90      0.47      0.62      1242\n",
            "            spying       0.00      0.00      0.00       412\n",
            "       dataProbing       0.90      1.00      0.95        94\n",
            "        wrongSetUp       0.99      1.00      0.99    278353\n",
            "\n",
            "          accuracy                           0.99    286352\n",
            "         macro avg       0.84      0.64      0.71    286352\n",
            "      weighted avg       0.99      0.99      0.99    286352\n",
            "\n"
          ],
          "name": "stdout"
        }
      ]
    },
    {
      "cell_type": "code",
      "metadata": {
        "colab": {
          "base_uri": "https://localhost:8080/"
        },
        "id": "TFNLZJ79oyVy",
        "outputId": "057605b6-08a8-4e0e-f87d-bb2647967647"
      },
      "source": [
        "print(classification_report(y_test, y_pred_test, target_names=target_names))"
      ],
      "execution_count": null,
      "outputs": [
        {
          "output_type": "stream",
          "text": [
            "                    precision    recall  f1-score   support\n",
            "\n",
            "            Normal       0.95      0.66      0.78      1178\n",
            "         DoSattack       1.00      0.57      0.73        63\n",
            "              scan       0.98      0.97      0.98       169\n",
            "  malitiousControl       0.99      0.50      0.67       155\n",
            "malitiousOperation       0.88      0.41      0.56       305\n",
            "            spying       0.00      0.00      0.00       120\n",
            "       dataProbing       0.93      1.00      0.97        28\n",
            "        wrongSetUp       0.99      1.00      0.99     69571\n",
            "\n",
            "          accuracy                           0.99     71589\n",
            "         macro avg       0.84      0.64      0.71     71589\n",
            "      weighted avg       0.99      0.99      0.99     71589\n",
            "\n"
          ],
          "name": "stdout"
        },
        {
          "output_type": "stream",
          "text": [
            "/usr/local/lib/python3.6/dist-packages/sklearn/metrics/_classification.py:1272: UndefinedMetricWarning: Precision and F-score are ill-defined and being set to 0.0 in labels with no predicted samples. Use `zero_division` parameter to control this behavior.\n",
            "  _warn_prf(average, modifier, msg_start, len(result))\n"
          ],
          "name": "stderr"
        }
      ]
    },
    {
      "cell_type": "code",
      "metadata": {
        "id": "tg8TA6eGo2ej"
      },
      "source": [
        "from sklearn.metrics import confusion_matrix\n",
        "import itertools"
      ],
      "execution_count": null,
      "outputs": []
    },
    {
      "cell_type": "code",
      "metadata": {
        "id": "k31sXh36o50Q"
      },
      "source": [
        "cnf_matrix = confusion_matrix(y_test, y_pred_test)"
      ],
      "execution_count": null,
      "outputs": []
    },
    {
      "cell_type": "code",
      "metadata": {
        "colab": {
          "base_uri": "https://localhost:8080/"
        },
        "id": "xTNu2VQDo8jD",
        "outputId": "2350b161-126b-443d-d71d-e0b0d03af87e"
      },
      "source": [
        "for i in cnf_matrix:\n",
        "    for j in i:\n",
        "        print(j, end='&')\n",
        "    print()"
      ],
      "execution_count": null,
      "outputs": [
        {
          "output_type": "stream",
          "text": [
            "775&0&0&0&0&0&0&403&\n",
            "0&36&0&0&0&0&0&27&\n",
            "0&0&164&0&0&0&0&5&\n",
            "0&0&0&78&0&0&0&77&\n",
            "5&0&2&0&126&0&2&170&\n",
            "0&0&0&0&16&0&0&104&\n",
            "0&0&0&0&0&0&28&0&\n",
            "34&0&1&1&2&0&0&69533&\n"
          ],
          "name": "stdout"
        }
      ]
    },
    {
      "cell_type": "markdown",
      "metadata": {
        "id": "7czu8_rVs656"
      },
      "source": [
        "***Evaluation Metrics for SVM***"
      ]
    },
    {
      "cell_type": "code",
      "metadata": {
        "colab": {
          "base_uri": "https://localhost:8080/"
        },
        "id": "DVss5fo8o_s1",
        "outputId": "00ad3c4b-da81-4478-aef0-4a230180370f"
      },
      "source": [
        "pipe_svc = pipe_svc.fit(X_train, y_train)\n",
        "y_pred_train = pipe_svc.predict(X_train)\n",
        "y_pred_test = pipe_svc.predict(X_test)"
      ],
      "execution_count": null,
      "outputs": [
        {
          "output_type": "stream",
          "text": [
            "/usr/local/lib/python3.6/dist-packages/sklearn/svm/_base.py:947: ConvergenceWarning: Liblinear failed to converge, increase the number of iterations.\n",
            "  \"the number of iterations.\", ConvergenceWarning)\n"
          ],
          "name": "stderr"
        }
      ]
    },
    {
      "cell_type": "code",
      "metadata": {
        "colab": {
          "base_uri": "https://localhost:8080/"
        },
        "id": "bzsj02nPphg-",
        "outputId": "1c1b88f1-c549-4504-ad98-27ec119cd162"
      },
      "source": [
        "accuracy_score(y_train, y_pred_train), accuracy_score(y_test, y_pred_test)"
      ],
      "execution_count": null,
      "outputs": [
        {
          "output_type": "execute_result",
          "data": {
            "text/plain": [
              "(0.9826332625579706, 0.9827627149422398)"
            ]
          },
          "metadata": {
            "tags": []
          },
          "execution_count": 46
        }
      ]
    },
    {
      "cell_type": "code",
      "metadata": {
        "colab": {
          "base_uri": "https://localhost:8080/"
        },
        "id": "lN3FHL0YplZC",
        "outputId": "e53aed1f-32ab-43ed-8ff7-dd91d4d2d7a7"
      },
      "source": [
        "print(classification_report(y_train, y_pred_train, target_names=target_names))"
      ],
      "execution_count": null,
      "outputs": [
        {
          "output_type": "stream",
          "text": [
            "/usr/local/lib/python3.6/dist-packages/sklearn/metrics/_classification.py:1272: UndefinedMetricWarning: Precision and F-score are ill-defined and being set to 0.0 in labels with no predicted samples. Use `zero_division` parameter to control this behavior.\n",
            "  _warn_prf(average, modifier, msg_start, len(result))\n"
          ],
          "name": "stderr"
        },
        {
          "output_type": "stream",
          "text": [
            "                    precision    recall  f1-score   support\n",
            "\n",
            "            Normal       0.97      0.65      0.78      4602\n",
            "         DoSattack       0.00      0.00      0.00       279\n",
            "              scan       0.78      0.04      0.07       720\n",
            "  malitiousControl       1.00      0.16      0.27       650\n",
            "malitiousOperation       0.00      0.00      0.00      1242\n",
            "            spying       0.00      0.00      0.00       412\n",
            "       dataProbing       0.00      0.00      0.00        94\n",
            "        wrongSetUp       0.98      1.00      0.99    278353\n",
            "\n",
            "          accuracy                           0.98    286352\n",
            "         macro avg       0.47      0.23      0.26    286352\n",
            "      weighted avg       0.98      0.98      0.98    286352\n",
            "\n"
          ],
          "name": "stdout"
        }
      ]
    },
    {
      "cell_type": "code",
      "metadata": {
        "colab": {
          "base_uri": "https://localhost:8080/"
        },
        "id": "2pJngM-5pqEQ",
        "outputId": "7b369f1a-c0f7-405f-9a5b-e1b1e050a174"
      },
      "source": [
        "print(classification_report(y_test, y_pred_test, target_names=target_names))"
      ],
      "execution_count": null,
      "outputs": [
        {
          "output_type": "stream",
          "text": [
            "                    precision    recall  f1-score   support\n",
            "\n",
            "            Normal       0.96      0.66      0.78      1178\n",
            "         DoSattack       0.00      0.00      0.00        63\n",
            "              scan       0.83      0.06      0.11       169\n",
            "  malitiousControl       1.00      0.21      0.35       155\n",
            "malitiousOperation       0.00      0.00      0.00       305\n",
            "            spying       0.00      0.00      0.00       120\n",
            "       dataProbing       0.00      0.00      0.00        28\n",
            "        wrongSetUp       0.98      1.00      0.99     69571\n",
            "\n",
            "          accuracy                           0.98     71589\n",
            "         macro avg       0.47      0.24      0.28     71589\n",
            "      weighted avg       0.98      0.98      0.98     71589\n",
            "\n"
          ],
          "name": "stdout"
        },
        {
          "output_type": "stream",
          "text": [
            "/usr/local/lib/python3.6/dist-packages/sklearn/metrics/_classification.py:1272: UndefinedMetricWarning: Precision and F-score are ill-defined and being set to 0.0 in labels with no predicted samples. Use `zero_division` parameter to control this behavior.\n",
            "  _warn_prf(average, modifier, msg_start, len(result))\n"
          ],
          "name": "stderr"
        }
      ]
    },
    {
      "cell_type": "code",
      "metadata": {
        "colab": {
          "base_uri": "https://localhost:8080/"
        },
        "id": "xbYolsJBptqt",
        "outputId": "30965fca-ccd4-4c65-ec4c-0d5bd2db98db"
      },
      "source": [
        "cnf_matrix = confusion_matrix(y_test, y_pred_test)\n",
        "for i in cnf_matrix:\n",
        "    for j in i:\n",
        "        print(j, end='&')\n",
        "    print()"
      ],
      "execution_count": null,
      "outputs": [
        {
          "output_type": "stream",
          "text": [
            "775&0&0&0&0&0&0&403&\n",
            "0&0&0&0&0&0&0&63&\n",
            "0&0&10&0&0&0&0&159&\n",
            "0&0&0&33&0&0&0&122&\n",
            "0&0&2&0&0&0&0&303&\n",
            "0&0&0&0&0&0&0&120&\n",
            "0&0&0&0&0&0&0&28&\n",
            "34&0&0&0&0&0&0&69537&\n"
          ],
          "name": "stdout"
        }
      ]
    },
    {
      "cell_type": "markdown",
      "metadata": {
        "id": "aojv7-FztBnZ"
      },
      "source": [
        "***Evaluation Metrics for Decision Tree***"
      ]
    },
    {
      "cell_type": "code",
      "metadata": {
        "id": "Ye-Yy307pxkV"
      },
      "source": [
        "pipe_tree = pipe_tree.fit(X_train, y_train)\n",
        "y_pred_train = pipe_tree.predict(X_train)\n",
        "y_pred_test = pipe_tree.predict(X_test)"
      ],
      "execution_count": null,
      "outputs": []
    },
    {
      "cell_type": "code",
      "metadata": {
        "colab": {
          "base_uri": "https://localhost:8080/"
        },
        "id": "qhLTB4dEp1EL",
        "outputId": "98bc0b45-f927-437b-f728-b925f49122df"
      },
      "source": [
        "accuracy_score(y_train, y_pred_train), accuracy_score(y_test, y_pred_test)"
      ],
      "execution_count": null,
      "outputs": [
        {
          "output_type": "execute_result",
          "data": {
            "text/plain": [
              "(0.9942413532994356, 0.994091271005322)"
            ]
          },
          "metadata": {
            "tags": []
          },
          "execution_count": 51
        }
      ]
    },
    {
      "cell_type": "code",
      "metadata": {
        "colab": {
          "base_uri": "https://localhost:8080/"
        },
        "id": "6GXUiUj1p5pZ",
        "outputId": "ea8afc78-5038-4998-9725-5f0923afa7d7"
      },
      "source": [
        "print(classification_report(y_train, y_pred_train, target_names=target_names))"
      ],
      "execution_count": null,
      "outputs": [
        {
          "output_type": "stream",
          "text": [
            "                    precision    recall  f1-score   support\n",
            "\n",
            "            Normal       0.98      0.65      0.78      4602\n",
            "         DoSattack       1.00      1.00      1.00       279\n",
            "              scan       1.00      1.00      1.00       720\n",
            "  malitiousControl       1.00      1.00      1.00       650\n",
            "malitiousOperation       1.00      1.00      1.00      1242\n",
            "            spying       1.00      1.00      1.00       412\n",
            "       dataProbing       1.00      1.00      1.00        94\n",
            "        wrongSetUp       0.99      1.00      1.00    278353\n",
            "\n",
            "          accuracy                           0.99    286352\n",
            "         macro avg       1.00      0.96      0.97    286352\n",
            "      weighted avg       0.99      0.99      0.99    286352\n",
            "\n"
          ],
          "name": "stdout"
        }
      ]
    },
    {
      "cell_type": "code",
      "metadata": {
        "colab": {
          "base_uri": "https://localhost:8080/"
        },
        "id": "zXlm5bJzp8iD",
        "outputId": "7965299a-95ea-4e35-fd4a-ca38db4af5ce"
      },
      "source": [
        "print(classification_report(y_test, y_pred_test, target_names=target_names))"
      ],
      "execution_count": null,
      "outputs": [
        {
          "output_type": "stream",
          "text": [
            "                    precision    recall  f1-score   support\n",
            "\n",
            "            Normal       0.98      0.66      0.79      1178\n",
            "         DoSattack       1.00      1.00      1.00        63\n",
            "              scan       1.00      1.00      1.00       169\n",
            "  malitiousControl       1.00      1.00      1.00       155\n",
            "malitiousOperation       0.99      1.00      1.00       305\n",
            "            spying       1.00      1.00      1.00       120\n",
            "       dataProbing       1.00      1.00      1.00        28\n",
            "        wrongSetUp       0.99      1.00      1.00     69571\n",
            "\n",
            "          accuracy                           0.99     71589\n",
            "         macro avg       1.00      0.96      0.97     71589\n",
            "      weighted avg       0.99      0.99      0.99     71589\n",
            "\n"
          ],
          "name": "stdout"
        }
      ]
    },
    {
      "cell_type": "code",
      "metadata": {
        "colab": {
          "base_uri": "https://localhost:8080/"
        },
        "id": "E5L53w5oqA0h",
        "outputId": "55a984d4-3e9c-4510-e315-0f2f2ab4165c"
      },
      "source": [
        "cnf_matrix = confusion_matrix(y_test, y_pred_test)\n",
        "for i in cnf_matrix:\n",
        "    for j in i:\n",
        "        print(j, end='&')\n",
        "    print()"
      ],
      "execution_count": null,
      "outputs": [
        {
          "output_type": "stream",
          "text": [
            "775&0&0&0&0&0&0&403&\n",
            "0&63&0&0&0&0&0&0&\n",
            "0&0&169&0&0&0&0&0&\n",
            "0&0&0&155&0&0&0&0&\n",
            "0&0&0&0&305&0&0&0&\n",
            "0&0&0&0&0&120&0&0&\n",
            "0&0&0&0&0&0&28&0&\n",
            "18&0&0&0&2&0&0&69551&\n"
          ],
          "name": "stdout"
        }
      ]
    },
    {
      "cell_type": "markdown",
      "metadata": {
        "id": "b_kCXI_GtIxt"
      },
      "source": [
        "***Evaluation Metrics for Random Forest***"
      ]
    },
    {
      "cell_type": "code",
      "metadata": {
        "id": "ccqtJfvyqEJU"
      },
      "source": [
        "pipe_rnd = pipe_rnd.fit(X_train, y_train)\n",
        "y_pred_train = pipe_rnd.predict(X_train)\n",
        "y_pred_test = pipe_rnd.predict(X_test)"
      ],
      "execution_count": null,
      "outputs": []
    },
    {
      "cell_type": "code",
      "metadata": {
        "id": "WG__N5OCqJBl"
      },
      "source": [
        "y_pred_train = pipe_rnd.predict(X_train)\n",
        "y_pred_test = pipe_rnd.predict(X_test)"
      ],
      "execution_count": null,
      "outputs": []
    },
    {
      "cell_type": "code",
      "metadata": {
        "colab": {
          "base_uri": "https://localhost:8080/"
        },
        "id": "GDjYE6unqMFS",
        "outputId": "dd1f1ac0-b93b-452e-b9e1-91f2d895bbe6"
      },
      "source": [
        "accuracy_score(y_train, y_pred_train), accuracy_score(y_test, y_pred_test)"
      ],
      "execution_count": null,
      "outputs": [
        {
          "output_type": "execute_result",
          "data": {
            "text/plain": [
              "(0.9942413532994356, 0.994119208258252)"
            ]
          },
          "metadata": {
            "tags": []
          },
          "execution_count": 57
        }
      ]
    },
    {
      "cell_type": "code",
      "metadata": {
        "colab": {
          "base_uri": "https://localhost:8080/"
        },
        "id": "vupCJ9K6qO4d",
        "outputId": "f4f931ed-1f21-4f27-ff42-1dc497057062"
      },
      "source": [
        "print(classification_report(y_train, y_pred_train, target_names=target_names))"
      ],
      "execution_count": null,
      "outputs": [
        {
          "output_type": "stream",
          "text": [
            "                    precision    recall  f1-score   support\n",
            "\n",
            "            Normal       0.98      0.65      0.78      4602\n",
            "         DoSattack       1.00      1.00      1.00       279\n",
            "              scan       1.00      1.00      1.00       720\n",
            "  malitiousControl       1.00      1.00      1.00       650\n",
            "malitiousOperation       1.00      1.00      1.00      1242\n",
            "            spying       1.00      1.00      1.00       412\n",
            "       dataProbing       1.00      1.00      1.00        94\n",
            "        wrongSetUp       0.99      1.00      1.00    278353\n",
            "\n",
            "          accuracy                           0.99    286352\n",
            "         macro avg       1.00      0.96      0.97    286352\n",
            "      weighted avg       0.99      0.99      0.99    286352\n",
            "\n"
          ],
          "name": "stdout"
        }
      ]
    },
    {
      "cell_type": "code",
      "metadata": {
        "colab": {
          "base_uri": "https://localhost:8080/"
        },
        "id": "5VLkhxpMqS8F",
        "outputId": "8adaab3c-e817-46db-9813-e8efb4e54201"
      },
      "source": [
        "print(classification_report(y_test, y_pred_test, target_names=target_names))"
      ],
      "execution_count": null,
      "outputs": [
        {
          "output_type": "stream",
          "text": [
            "                    precision    recall  f1-score   support\n",
            "\n",
            "            Normal       0.98      0.66      0.79      1178\n",
            "         DoSattack       1.00      1.00      1.00        63\n",
            "              scan       1.00      1.00      1.00       169\n",
            "  malitiousControl       1.00      1.00      1.00       155\n",
            "malitiousOperation       1.00      1.00      1.00       305\n",
            "            spying       1.00      1.00      1.00       120\n",
            "       dataProbing       1.00      1.00      1.00        28\n",
            "        wrongSetUp       0.99      1.00      1.00     69571\n",
            "\n",
            "          accuracy                           0.99     71589\n",
            "         macro avg       1.00      0.96      0.97     71589\n",
            "      weighted avg       0.99      0.99      0.99     71589\n",
            "\n"
          ],
          "name": "stdout"
        }
      ]
    },
    {
      "cell_type": "code",
      "metadata": {
        "colab": {
          "base_uri": "https://localhost:8080/"
        },
        "id": "M7Tf7UlvqV8X",
        "outputId": "001819fd-261b-40a3-9f1d-5a16b5349ab7"
      },
      "source": [
        "cnf_matrix = confusion_matrix(y_test, y_pred_test)\n",
        "for i in cnf_matrix:\n",
        "    for j in i:\n",
        "        print(j, end='&')\n",
        "    print()"
      ],
      "execution_count": null,
      "outputs": [
        {
          "output_type": "stream",
          "text": [
            "775&0&0&0&0&0&0&403&\n",
            "0&63&0&0&0&0&0&0&\n",
            "0&0&169&0&0&0&0&0&\n",
            "0&0&0&155&0&0&0&0&\n",
            "0&0&0&0&305&0&0&0&\n",
            "0&0&0&0&0&120&0&0&\n",
            "0&0&0&0&0&0&28&0&\n",
            "18&0&0&0&0&0&0&69553&\n"
          ],
          "name": "stdout"
        }
      ]
    },
    {
      "cell_type": "markdown",
      "metadata": {
        "id": "Vtf2MpKutPwv"
      },
      "source": [
        "***Evaluation Metrics for ANN***"
      ]
    },
    {
      "cell_type": "code",
      "metadata": {
        "colab": {
          "base_uri": "https://localhost:8080/"
        },
        "id": "CyXWlYNbqa72",
        "outputId": "6de0a4d1-0a81-40d5-85ae-bf5d36e1a9fa"
      },
      "source": [
        "pipe_mlp = pipe_mlp.fit(X_train, y_train)\n",
        "y_pred_train = pipe_mlp.predict(X_train)\n",
        "y_pred_test = pipe_mlp.predict(X_test)"
      ],
      "execution_count": null,
      "outputs": [
        {
          "output_type": "stream",
          "text": [
            "Iteration 1, loss = 0.05584959\n",
            "Iteration 2, loss = 0.02541104\n",
            "Iteration 3, loss = 0.01882284\n",
            "Iteration 4, loss = 0.01670067\n",
            "Iteration 5, loss = 0.01501241\n",
            "Iteration 6, loss = 0.01462482\n",
            "Iteration 7, loss = 0.01410045\n",
            "Iteration 8, loss = 0.01378341\n",
            "Iteration 9, loss = 0.01346050\n",
            "Iteration 10, loss = 0.01328968\n"
          ],
          "name": "stdout"
        },
        {
          "output_type": "stream",
          "text": [
            "/usr/local/lib/python3.6/dist-packages/sklearn/neural_network/_multilayer_perceptron.py:571: ConvergenceWarning: Stochastic Optimizer: Maximum iterations (10) reached and the optimization hasn't converged yet.\n",
            "  % self.max_iter, ConvergenceWarning)\n"
          ],
          "name": "stderr"
        }
      ]
    },
    {
      "cell_type": "code",
      "metadata": {
        "colab": {
          "base_uri": "https://localhost:8080/"
        },
        "id": "nWDMrhKqqg82",
        "outputId": "ac22b350-8d06-4426-93d6-3e18cfe961e4"
      },
      "source": [
        "accuracy_score(y_train, y_pred_train), accuracy_score(y_test, y_pred_test)"
      ],
      "execution_count": null,
      "outputs": [
        {
          "output_type": "execute_result",
          "data": {
            "text/plain": [
              "(0.9942273844778454, 0.994077302378857)"
            ]
          },
          "metadata": {
            "tags": []
          },
          "execution_count": 62
        }
      ]
    },
    {
      "cell_type": "code",
      "metadata": {
        "colab": {
          "base_uri": "https://localhost:8080/"
        },
        "id": "WSBDwmWuqkVm",
        "outputId": "e8ad351f-0754-4611-a10a-8a6b6bd816bb"
      },
      "source": [
        "print(classification_report(y_train, y_pred_train, target_names=target_names))"
      ],
      "execution_count": null,
      "outputs": [
        {
          "output_type": "stream",
          "text": [
            "                    precision    recall  f1-score   support\n",
            "\n",
            "            Normal       0.98      0.65      0.78      4602\n",
            "         DoSattack       1.00      1.00      1.00       279\n",
            "              scan       1.00      1.00      1.00       720\n",
            "  malitiousControl       1.00      1.00      1.00       650\n",
            "malitiousOperation       1.00      1.00      1.00      1242\n",
            "            spying       1.00      1.00      1.00       412\n",
            "       dataProbing       1.00      1.00      1.00        94\n",
            "        wrongSetUp       0.99      1.00      1.00    278353\n",
            "\n",
            "          accuracy                           0.99    286352\n",
            "         macro avg       1.00      0.96      0.97    286352\n",
            "      weighted avg       0.99      0.99      0.99    286352\n",
            "\n"
          ],
          "name": "stdout"
        }
      ]
    },
    {
      "cell_type": "code",
      "metadata": {
        "id": "L09sbbK_qotT"
      },
      "source": [
        "pickle.dump(pipe_mlp,open('MLP.sav', 'wb'))"
      ],
      "execution_count": null,
      "outputs": []
    },
    {
      "cell_type": "code",
      "metadata": {
        "colab": {
          "base_uri": "https://localhost:8080/"
        },
        "id": "OWEFOSQsqza1",
        "outputId": "8aabb881-7912-4f7e-dfe0-9b0bd31a3ff4"
      },
      "source": [
        "print(classification_report(y_test, y_pred_test, target_names=target_names))"
      ],
      "execution_count": null,
      "outputs": [
        {
          "output_type": "stream",
          "text": [
            "                    precision    recall  f1-score   support\n",
            "\n",
            "            Normal       0.98      0.66      0.79      1178\n",
            "         DoSattack       1.00      1.00      1.00        63\n",
            "              scan       0.99      1.00      1.00       169\n",
            "  malitiousControl       1.00      1.00      1.00       155\n",
            "malitiousOperation       1.00      1.00      1.00       305\n",
            "            spying       0.98      1.00      0.99       120\n",
            "       dataProbing       1.00      1.00      1.00        28\n",
            "        wrongSetUp       0.99      1.00      1.00     69571\n",
            "\n",
            "          accuracy                           0.99     71589\n",
            "         macro avg       0.99      0.96      0.97     71589\n",
            "      weighted avg       0.99      0.99      0.99     71589\n",
            "\n"
          ],
          "name": "stdout"
        }
      ]
    },
    {
      "cell_type": "code",
      "metadata": {
        "id": "t5qwO4QKq3k-"
      },
      "source": [
        "from sklearn.metrics import confusion_matrix\n",
        "import itertools"
      ],
      "execution_count": null,
      "outputs": []
    },
    {
      "cell_type": "code",
      "metadata": {
        "id": "7rQNSRyGq75M"
      },
      "source": [
        "cnf_matrix = confusion_matrix(y_test, y_pred_test)"
      ],
      "execution_count": null,
      "outputs": []
    },
    {
      "cell_type": "code",
      "metadata": {
        "colab": {
          "base_uri": "https://localhost:8080/"
        },
        "id": "xzqsISNaq_K9",
        "outputId": "bc4b7f59-6291-4e9b-ee8f-8da5c70eed2f"
      },
      "source": [
        "cnf_matrix"
      ],
      "execution_count": null,
      "outputs": [
        {
          "output_type": "execute_result",
          "data": {
            "text/plain": [
              "array([[  775,     0,     0,     0,     0,     0,     0,   403],\n",
              "       [    0,    63,     0,     0,     0,     0,     0,     0],\n",
              "       [    0,     0,   169,     0,     0,     0,     0,     0],\n",
              "       [    0,     0,     0,   155,     0,     0,     0,     0],\n",
              "       [    0,     0,     0,     0,   305,     0,     0,     0],\n",
              "       [    0,     0,     0,     0,     0,   120,     0,     0],\n",
              "       [    0,     0,     0,     0,     0,     0,    28,     0],\n",
              "       [   18,     0,     1,     0,     0,     2,     0, 69550]])"
            ]
          },
          "metadata": {
            "tags": []
          },
          "execution_count": 69
        }
      ]
    },
    {
      "cell_type": "code",
      "metadata": {
        "colab": {
          "base_uri": "https://localhost:8080/"
        },
        "id": "wIwH2d6VrCgO",
        "outputId": "16d4d184-1fe1-49d4-c134-a8928bcd35ea"
      },
      "source": [
        "for i in cnf_matrix:\n",
        "    for j in i:\n",
        "        print(j, end=' ')\n",
        "    print()"
      ],
      "execution_count": null,
      "outputs": [
        {
          "output_type": "stream",
          "text": [
            "775 0 0 0 0 0 0 403 \n",
            "0 63 0 0 0 0 0 0 \n",
            "0 0 169 0 0 0 0 0 \n",
            "0 0 0 155 0 0 0 0 \n",
            "0 0 0 0 305 0 0 0 \n",
            "0 0 0 0 0 120 0 0 \n",
            "0 0 0 0 0 0 28 0 \n",
            "18 0 1 0 0 2 0 69550 \n"
          ],
          "name": "stdout"
        }
      ]
    }
  ]
}